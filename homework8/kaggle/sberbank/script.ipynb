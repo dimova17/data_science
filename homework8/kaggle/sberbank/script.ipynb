{
 "cells": [
  {
   "cell_type": "markdown",
   "metadata": {
    "_cell_guid": "8dfa5de7-7906-d7a5-30bd-a8d7b8bb4072"
   },
   "source": [
    "## Why linear regression?\n",
    "After trying out the ideas in this Notebook I already know that a linear regression model will not lead to a top score in the competion. The reason I wanted to try it out is that it's a model that is reasonably simple to understand and get an intuitive feel for. I can more or less code the algorithm myself and this brings the benefit that it's a lot easier to understand what is going on and make the right choices when trying to improve the model by cleaning the data, trying out different parameters, et c.\n",
    "\n",
    "Just applying Random Forest or Gradient Boosting without knowing how they work or what each parameter of the model does feels kind of scary. It might be reasonably easy to get a good \"score\" but how can I tell if I reached the right conclusions, how well the model would transfer to a sligthly different scenario or how changes in the raw data would affect the model? I would love to learn more about these models as well but as I've recently gotten started with this I am taking one step at a time.\n",
    "\n",
    "I've tried to include all relevant steps of my analysis but have omitted some that would result in a long output. Ok, let's get started with some imports and loading the data."
   ]
  },
  {
   "cell_type": "code",
   "execution_count": 1,
   "metadata": {
    "_cell_guid": "b6ed0124-c246-2dea-82d5-461669be3447"
   },
   "outputs": [],
   "source": [
    "# This Python 3 environment comes with many helpful analytics libraries installed\n",
    "# It is defined by the kaggle/python docker image: https://github.com/kaggle/docker-python\n",
    "# For example, here's several helpful packages to load in \n",
    "\n",
    "import numpy as np # linear algebra\n",
    "import pandas as pd # data processing, CSV file I/O (e.g. pd.read_csv)\n",
    "import matplotlib.pyplot as plt\n",
    "%matplotlib inline\n",
    "from sklearn.linear_model import Ridge, RidgeCV, Lasso, ElasticNetCV\n",
    "from sklearn.model_selection import train_test_split\n",
    "from sklearn.metrics import mean_squared_error, make_scorer\n",
    "\n",
    "# Input data files are available in the \"../input/\" directory.\n",
    "# For example, running this (by clicking run or pressing Shift+Enter) will list the files in the input directory\n",
    "\n",
    "#from subprocess import check_output\n",
    "#print(check_output([\"ls\", \"../input\"]).decode(\"utf8\"))\n",
    "\n",
    "# Any results you write to the current directory are saved as output."
   ]
  },
  {
   "cell_type": "code",
   "execution_count": 2,
   "metadata": {
    "_cell_guid": "05f4fb09-ddf0-79bc-96fb-79d6a33b667e"
   },
   "outputs": [
    {
     "name": "stdout",
     "output_type": "stream",
     "text": [
      "(30471, 291)\n",
      "(7662, 290)\n"
     ]
    }
   ],
   "source": [
    "# Load data.\n",
    "train = pd.read_csv('data/train.csv', index_col='id', parse_dates=[1], \n",
    "                    true_values=['yes'], false_values=['no'])\n",
    "test = pd.read_csv('data/test.csv', index_col='id', parse_dates=[1], \n",
    "                   true_values=['yes'], false_values=['no'])\n",
    "print(train.shape)\n",
    "print(test.shape)"
   ]
  },
  {
   "cell_type": "code",
   "execution_count": 27,
   "metadata": {},
   "outputs": [
    {
     "data": {
      "text/html": [
       "<div>\n",
       "<style scoped>\n",
       "    .dataframe tbody tr th:only-of-type {\n",
       "        vertical-align: middle;\n",
       "    }\n",
       "\n",
       "    .dataframe tbody tr th {\n",
       "        vertical-align: top;\n",
       "    }\n",
       "\n",
       "    .dataframe thead th {\n",
       "        text-align: right;\n",
       "    }\n",
       "</style>\n",
       "<table border=\"1\" class=\"dataframe\">\n",
       "  <thead>\n",
       "    <tr style=\"text-align: right;\">\n",
       "      <th></th>\n",
       "      <th>timestamp</th>\n",
       "      <th>full_sq</th>\n",
       "      <th>life_sq</th>\n",
       "      <th>floor</th>\n",
       "      <th>max_floor</th>\n",
       "      <th>material</th>\n",
       "      <th>build_year</th>\n",
       "      <th>num_room</th>\n",
       "      <th>kitch_sq</th>\n",
       "      <th>state</th>\n",
       "      <th>...</th>\n",
       "      <th>cafe_count_5000_price_2500</th>\n",
       "      <th>cafe_count_5000_price_4000</th>\n",
       "      <th>cafe_count_5000_price_high</th>\n",
       "      <th>big_church_count_5000</th>\n",
       "      <th>church_count_5000</th>\n",
       "      <th>mosque_count_5000</th>\n",
       "      <th>leisure_count_5000</th>\n",
       "      <th>sport_count_5000</th>\n",
       "      <th>market_count_5000</th>\n",
       "      <th>price_doc</th>\n",
       "    </tr>\n",
       "    <tr>\n",
       "      <th>id</th>\n",
       "      <th></th>\n",
       "      <th></th>\n",
       "      <th></th>\n",
       "      <th></th>\n",
       "      <th></th>\n",
       "      <th></th>\n",
       "      <th></th>\n",
       "      <th></th>\n",
       "      <th></th>\n",
       "      <th></th>\n",
       "      <th></th>\n",
       "      <th></th>\n",
       "      <th></th>\n",
       "      <th></th>\n",
       "      <th></th>\n",
       "      <th></th>\n",
       "      <th></th>\n",
       "      <th></th>\n",
       "      <th></th>\n",
       "      <th></th>\n",
       "      <th></th>\n",
       "    </tr>\n",
       "  </thead>\n",
       "  <tbody>\n",
       "    <tr>\n",
       "      <th>1</th>\n",
       "      <td>2011-08-20</td>\n",
       "      <td>43</td>\n",
       "      <td>27.0</td>\n",
       "      <td>4.0</td>\n",
       "      <td>NaN</td>\n",
       "      <td>NaN</td>\n",
       "      <td>NaN</td>\n",
       "      <td>NaN</td>\n",
       "      <td>NaN</td>\n",
       "      <td>NaN</td>\n",
       "      <td>...</td>\n",
       "      <td>9</td>\n",
       "      <td>4</td>\n",
       "      <td>0</td>\n",
       "      <td>13</td>\n",
       "      <td>22</td>\n",
       "      <td>1</td>\n",
       "      <td>0</td>\n",
       "      <td>52</td>\n",
       "      <td>4</td>\n",
       "      <td>5850000</td>\n",
       "    </tr>\n",
       "    <tr>\n",
       "      <th>2</th>\n",
       "      <td>2011-08-23</td>\n",
       "      <td>34</td>\n",
       "      <td>19.0</td>\n",
       "      <td>3.0</td>\n",
       "      <td>NaN</td>\n",
       "      <td>NaN</td>\n",
       "      <td>NaN</td>\n",
       "      <td>NaN</td>\n",
       "      <td>NaN</td>\n",
       "      <td>NaN</td>\n",
       "      <td>...</td>\n",
       "      <td>15</td>\n",
       "      <td>3</td>\n",
       "      <td>0</td>\n",
       "      <td>15</td>\n",
       "      <td>29</td>\n",
       "      <td>1</td>\n",
       "      <td>10</td>\n",
       "      <td>66</td>\n",
       "      <td>14</td>\n",
       "      <td>6000000</td>\n",
       "    </tr>\n",
       "    <tr>\n",
       "      <th>3</th>\n",
       "      <td>2011-08-27</td>\n",
       "      <td>43</td>\n",
       "      <td>29.0</td>\n",
       "      <td>2.0</td>\n",
       "      <td>NaN</td>\n",
       "      <td>NaN</td>\n",
       "      <td>NaN</td>\n",
       "      <td>NaN</td>\n",
       "      <td>NaN</td>\n",
       "      <td>NaN</td>\n",
       "      <td>...</td>\n",
       "      <td>10</td>\n",
       "      <td>3</td>\n",
       "      <td>0</td>\n",
       "      <td>11</td>\n",
       "      <td>27</td>\n",
       "      <td>0</td>\n",
       "      <td>4</td>\n",
       "      <td>67</td>\n",
       "      <td>10</td>\n",
       "      <td>5700000</td>\n",
       "    </tr>\n",
       "    <tr>\n",
       "      <th>4</th>\n",
       "      <td>2011-09-01</td>\n",
       "      <td>89</td>\n",
       "      <td>50.0</td>\n",
       "      <td>9.0</td>\n",
       "      <td>NaN</td>\n",
       "      <td>NaN</td>\n",
       "      <td>NaN</td>\n",
       "      <td>NaN</td>\n",
       "      <td>NaN</td>\n",
       "      <td>NaN</td>\n",
       "      <td>...</td>\n",
       "      <td>11</td>\n",
       "      <td>2</td>\n",
       "      <td>1</td>\n",
       "      <td>4</td>\n",
       "      <td>4</td>\n",
       "      <td>0</td>\n",
       "      <td>0</td>\n",
       "      <td>26</td>\n",
       "      <td>3</td>\n",
       "      <td>13100000</td>\n",
       "    </tr>\n",
       "    <tr>\n",
       "      <th>5</th>\n",
       "      <td>2011-09-05</td>\n",
       "      <td>77</td>\n",
       "      <td>77.0</td>\n",
       "      <td>4.0</td>\n",
       "      <td>NaN</td>\n",
       "      <td>NaN</td>\n",
       "      <td>NaN</td>\n",
       "      <td>NaN</td>\n",
       "      <td>NaN</td>\n",
       "      <td>NaN</td>\n",
       "      <td>...</td>\n",
       "      <td>319</td>\n",
       "      <td>108</td>\n",
       "      <td>17</td>\n",
       "      <td>135</td>\n",
       "      <td>236</td>\n",
       "      <td>2</td>\n",
       "      <td>91</td>\n",
       "      <td>195</td>\n",
       "      <td>14</td>\n",
       "      <td>16331452</td>\n",
       "    </tr>\n",
       "  </tbody>\n",
       "</table>\n",
       "<p>5 rows × 291 columns</p>\n",
       "</div>"
      ],
      "text/plain": [
       "    timestamp  full_sq  life_sq  floor  max_floor  material  build_year  \\\n",
       "id                                                                        \n",
       "1  2011-08-20       43     27.0    4.0        NaN       NaN         NaN   \n",
       "2  2011-08-23       34     19.0    3.0        NaN       NaN         NaN   \n",
       "3  2011-08-27       43     29.0    2.0        NaN       NaN         NaN   \n",
       "4  2011-09-01       89     50.0    9.0        NaN       NaN         NaN   \n",
       "5  2011-09-05       77     77.0    4.0        NaN       NaN         NaN   \n",
       "\n",
       "    num_room  kitch_sq  state    ...     cafe_count_5000_price_2500  \\\n",
       "id                               ...                                  \n",
       "1        NaN       NaN    NaN    ...                              9   \n",
       "2        NaN       NaN    NaN    ...                             15   \n",
       "3        NaN       NaN    NaN    ...                             10   \n",
       "4        NaN       NaN    NaN    ...                             11   \n",
       "5        NaN       NaN    NaN    ...                            319   \n",
       "\n",
       "   cafe_count_5000_price_4000  cafe_count_5000_price_high  \\\n",
       "id                                                          \n",
       "1                           4                           0   \n",
       "2                           3                           0   \n",
       "3                           3                           0   \n",
       "4                           2                           1   \n",
       "5                         108                          17   \n",
       "\n",
       "    big_church_count_5000  church_count_5000  mosque_count_5000  \\\n",
       "id                                                                \n",
       "1                      13                 22                  1   \n",
       "2                      15                 29                  1   \n",
       "3                      11                 27                  0   \n",
       "4                       4                  4                  0   \n",
       "5                     135                236                  2   \n",
       "\n",
       "    leisure_count_5000  sport_count_5000  market_count_5000  price_doc  \n",
       "id                                                                      \n",
       "1                    0                52                  4    5850000  \n",
       "2                   10                66                 14    6000000  \n",
       "3                    4                67                 10    5700000  \n",
       "4                    0                26                  3   13100000  \n",
       "5                   91               195                 14   16331452  \n",
       "\n",
       "[5 rows x 291 columns]"
      ]
     },
     "execution_count": 27,
     "metadata": {},
     "output_type": "execute_result"
    }
   ],
   "source": [
    "train.head()"
   ]
  },
  {
   "cell_type": "code",
   "execution_count": 17,
   "metadata": {},
   "outputs": [
    {
     "data": {
      "text/plain": [
       "array(['Bibirevo', 'Nagatinskij Zaton', \"Tekstil'shhiki\", 'Mitino',\n",
       "       'Basmannoe', 'Nizhegorodskoe', \"Sokol'niki\", 'Koptevo', 'Kuncevo',\n",
       "       'Kosino-Uhtomskoe', 'Zapadnoe Degunino', 'Presnenskoe',\n",
       "       'Lefortovo', \"Mar'ino\", \"Kuz'minki\", 'Nagornoe', \"Gol'janovo\",\n",
       "       'Vnukovo', 'Juzhnoe Tushino', 'Severnoe Tushino',\n",
       "       \"Chertanovo Central'noe\", 'Fili Davydkovo', 'Otradnoe',\n",
       "       'Novo-Peredelkino', 'Bogorodskoe', 'Jaroslavskoe', 'Strogino',\n",
       "       'Hovrino', \"Moskvorech'e-Saburovo\", 'Staroe Krjukovo', 'Ljublino',\n",
       "       'Caricyno', 'Veshnjaki', 'Danilovskoe', 'Preobrazhenskoe',\n",
       "       \"Kon'kovo\", 'Brateevo', 'Vostochnoe Izmajlovo', 'Vyhino-Zhulebino',\n",
       "       'Donskoe', 'Novogireevo', 'Juzhnoe Butovo', 'Sokol', 'Kurkino',\n",
       "       'Izmajlovo', 'Severnoe Medvedkovo', 'Rostokino',\n",
       "       'Orehovo-Borisovo Severnoe', 'Ochakovo-Matveevskoe', 'Taganskoe',\n",
       "       'Dmitrovskoe', 'Orehovo-Borisovo Juzhnoe', 'Teplyj Stan',\n",
       "       'Babushkinskoe', 'Pokrovskoe Streshnevo', 'Obruchevskoe',\n",
       "       'Filevskij Park', 'Troparevo-Nikulino', 'Severnoe Butovo',\n",
       "       'Hamovniki', 'Solncevo', 'Dorogomilovo', 'Timirjazevskoe',\n",
       "       'Lianozovo', 'Pechatniki', 'Krjukovo', 'Jasenevo',\n",
       "       'Chertanovo Severnoe', 'Rjazanskij', 'Silino', 'Ivanovskoe',\n",
       "       'Golovinskoe', 'Novokosino', 'Nagatino-Sadovniki',\n",
       "       'Birjulevo Vostochnoe', 'Severnoe Izmajlovo', 'Sokolinaja Gora',\n",
       "       'Vostochnoe Degunino', 'Prospekt Vernadskogo', 'Savelki',\n",
       "       'Ajeroport', 'Vojkovskoe', 'Beskudnikovskoe', 'Krylatskoe',\n",
       "       'Juzhnoportovoe', 'Perovo', 'Akademicheskoe', 'Horoshevo-Mnevniki',\n",
       "       'Shhukino', 'Kapotnja', 'Horoshevskoe', 'Marfino',\n",
       "       'Chertanovo Juzhnoe', 'Savelovskoe', 'Birjulevo Zapadnoe',\n",
       "       'Nekrasovka', 'Cheremushki', 'Sviblovo', 'Alekseevskoe',\n",
       "       \"Krasnosel'skoe\", 'Kotlovka', 'Zjuzino', 'Ostankinskoe',\n",
       "       'Tverskoe', 'Losinoostrovskoe', 'Butyrskoe', 'Matushkino',\n",
       "       'Metrogorodok', 'Juzhnoe Medvedkovo', 'Lomonosovskoe', 'Jakimanka',\n",
       "       'Mozhajskoe', 'Levoberezhnoe', \"Mar'ina Roshha\", 'Gagarinskoe',\n",
       "       \"Zamoskvorech'e\", \"Altuf'evskoe\", 'Ramenki', 'Zjablikovo',\n",
       "       'Meshhanskoe', 'Severnoe', 'Begovoe', 'Arbat',\n",
       "       'Poselenie Sosenskoe', 'Poselenie Moskovskij',\n",
       "       'Poselenie Pervomajskoe', 'Poselenie Desjonovskoe',\n",
       "       'Poselenie Voskresenskoe', 'Poselenie Mosrentgen',\n",
       "       'Troickij okrug', 'Poselenie Shherbinka',\n",
       "       'Poselenie Filimonkovskoe', 'Poselenie Vnukovskoe',\n",
       "       'Poselenie Marushkinskoe', 'Poselenie Shhapovskoe',\n",
       "       'Poselenie Rjazanovskoe', 'Poselenie Kokoshkino', 'Vostochnoe',\n",
       "       'Poselenie Krasnopahorskoe', 'Poselenie Novofedorovskoe',\n",
       "       'Poselenie Voronovskoe', 'Poselenie Klenovskoe',\n",
       "       'Poselenie Rogovskoe', 'Poselenie Kievskij', 'Molzhaninovskoe',\n",
       "       'Poselenie Mihajlovo-Jarcevskoe'], dtype=object)"
      ]
     },
     "execution_count": 17,
     "metadata": {},
     "output_type": "execute_result"
    }
   ],
   "source": [
    "pd.unique(train['sub_area'])"
   ]
  },
  {
   "cell_type": "markdown",
   "metadata": {
    "_cell_guid": "3dc1d5e2-219d-e477-f0f3-3afae652eeb8"
   },
   "source": [
    "## Data cleaning\n",
    "As a linear regression model cannot work with categorical variables I have to do some transformations. I will perform the following steps:\n",
    "\n",
    "* Merge the test and training data. As I will fill out most of the NaNs with the median value I want to get medians that are representative of the entire data set.\n",
    "* Create a numerical scale for **ecology**\n",
    "* Create a boolean **is_investment** column based on **product_type**\n",
    "* Create a boolean column for each **sub_area**\n",
    "* Find NaN values and replace them, for the most part with the median value\n",
    "* For **life_sq**, **num_room** and **kitch_sq** we can do better assumptions than the median\n",
    "* **buildyear** contains some crazy outliers, clean those up\n",
    "\n",
    "Note: I also tried the approach with creating a new column for columns where NaN values could be found, e.g. build_year_NaN set to True for a row where build_year was not available, but that did not yield any better result so I will skip this step here. Maybe it would work better for another type of model?"
   ]
  },
  {
   "cell_type": "code",
   "execution_count": 28,
   "metadata": {},
   "outputs": [
    {
     "data": {
      "text/plain": [
       "1274959"
      ]
     },
     "execution_count": 28,
     "metadata": {},
     "output_type": "execute_result"
    }
   ],
   "source": [
    "train.loc[train['life_sq'] > 0, 'full_sq'].sum()"
   ]
  },
  {
   "cell_type": "code",
   "execution_count": 29,
   "metadata": {},
   "outputs": [
    {
     "data": {
      "text/plain": [
       "id\n",
       "560     NaN\n",
       "625     NaN\n",
       "784     NaN\n",
       "825     NaN\n",
       "835     NaN\n",
       "938     NaN\n",
       "971     NaN\n",
       "981     NaN\n",
       "995     NaN\n",
       "999     NaN\n",
       "1005    NaN\n",
       "1175    NaN\n",
       "1198    NaN\n",
       "1292    NaN\n",
       "1320    NaN\n",
       "1326    NaN\n",
       "1340    NaN\n",
       "1354    NaN\n",
       "1372    NaN\n",
       "1373    NaN\n",
       "1392    NaN\n",
       "1428    NaN\n",
       "1497    NaN\n",
       "1513    NaN\n",
       "1527    NaN\n",
       "1635    NaN\n",
       "1653    NaN\n",
       "1696    NaN\n",
       "1700    NaN\n",
       "1706    NaN\n",
       "         ..\n",
       "30358   NaN\n",
       "30363   NaN\n",
       "30372   NaN\n",
       "30387   NaN\n",
       "30389   NaN\n",
       "30390   NaN\n",
       "30398   NaN\n",
       "30399   NaN\n",
       "30401   NaN\n",
       "30403   NaN\n",
       "30407   NaN\n",
       "30408   NaN\n",
       "30410   NaN\n",
       "30416   NaN\n",
       "30418   NaN\n",
       "30428   NaN\n",
       "30429   NaN\n",
       "30431   NaN\n",
       "30432   NaN\n",
       "30433   NaN\n",
       "30442   NaN\n",
       "30446   NaN\n",
       "30447   NaN\n",
       "30450   NaN\n",
       "30451   NaN\n",
       "30453   NaN\n",
       "30454   NaN\n",
       "30462   NaN\n",
       "30468   NaN\n",
       "30471   NaN\n",
       "Name: life_sq, Length: 6383, dtype: float64"
      ]
     },
     "execution_count": 29,
     "metadata": {},
     "output_type": "execute_result"
    }
   ],
   "source": [
    "train.loc[train['life_sq'].isnull(), 'life_sq']"
   ]
  },
  {
   "cell_type": "code",
   "execution_count": 30,
   "metadata": {
    "_cell_guid": "dc050083-b721-4b7d-6bb9-d6833bf98cfc"
   },
   "outputs": [
    {
     "data": {
      "text/plain": [
       "0"
      ]
     },
     "execution_count": 30,
     "metadata": {},
     "output_type": "execute_result"
    }
   ],
   "source": [
    "test['price_doc'] = -1\n",
    "data = pd.concat([train, test])\n",
    "\n",
    "# Fix ecology column\n",
    "ecology_map = {'poor': 1, 'satisfactory': 2, 'good': 3, 'excellent': 4, 'no data': np.NaN}\n",
    "data['ecology'] = data['ecology'].apply(lambda x: ecology_map[x])\n",
    "\n",
    "# There are 33 NaNs in the product_type column. \n",
    "# Set them to is_investment=True as that is the most common value.\n",
    "data['is_investment'] = data['product_type'].apply(\n",
    "    lambda x: False if x == 'OwnerOccupier' else True)\n",
    "del data['product_type']\n",
    "\n",
    "# Create a categorical value for each sub area\n",
    "sub_areas = list(data['sub_area'].unique())\n",
    "for area in sub_areas:\n",
    "    data[area] = data['sub_area'].apply(lambda x: True if x == area else False)\n",
    "del data['sub_area']\n",
    "\n",
    "# Find columns with NaN values...\n",
    "column_names = data.columns.values.tolist()\n",
    "NaN_columns = []\n",
    "for i, col_name in enumerate(column_names):\n",
    "    s = sum(pd.isnull(data.iloc[:,i]))\n",
    "    if s > 0:\n",
    "        NaN_columns.append(i)\n",
    "# ...and set most of these to the median value\n",
    "for i in NaN_columns:\n",
    "    if i in [2, 7, 8]: # life_sq, num_rooms, kitchen_sq\n",
    "        continue\n",
    "    else:\n",
    "        data[column_names[i]]=data[column_names[i]].fillna(data[column_names[i]].median())\n",
    "\n",
    "# Update NaN values for life_sq, num_room and kitch_sq\n",
    "life_sq_to_full_sq = float(data['life_sq'].sum()) / \\\n",
    "    float(data.loc[data['life_sq'] > 0, 'full_sq'].sum())\n",
    "    \n",
    "average_room_size = float(data.loc[data['num_room'] > 0, 'full_sq'].sum()) / \\\n",
    "    float(data['num_room'].sum())\n",
    "    \n",
    "life_sq_to_kitch_sq = float(data['kitch_sq'].sum()) / \\\n",
    "    float(data.loc[data['kitch_sq'] > 0, 'full_sq'].sum())\n",
    "    \n",
    "data.loc[data['life_sq'].isnull(), 'life_sq'] = \\\n",
    "    data.loc[data['life_sq'].isnull(), 'full_sq'] * life_sq_to_full_sq\n",
    "    \n",
    "data.loc[data['num_room'].isnull(), 'num_room'] = \\\n",
    "    np.round(data.loc[data['num_room'].isnull(), 'full_sq'] / average_room_size)\n",
    "    \n",
    "data.loc[data['kitch_sq'].isnull(), 'kitch_sq'] = \\\n",
    "    data.loc[data['kitch_sq'].isnull(), 'full_sq'] * life_sq_to_kitch_sq\n",
    "\n",
    "# Remove outliers from buildyear\n",
    "median_build_year = data['build_year'].median()\n",
    "data['build_year'] = data['build_year'].apply( \\\n",
    "    lambda x: median_build_year if x < 1800 else median_build_year if x > 2017 else x)\n",
    "\n",
    "# Should output a 0 meaning that there are no NaNs left.\n",
    "data.isnull().sum().sum()"
   ]
  },
  {
   "cell_type": "markdown",
   "metadata": {
    "_cell_guid": "4b0d8bf9-11b9-2691-5c0e-7759621bc748"
   },
   "source": [
    "There is a lot more that could be done with the data if you want to spend some time with it. I spent a few minutes looking at various outliers, e.g. the first and 99th quantile of the first columns. **max_floor** and **kitch_sq** certainly stands out but I will not spend time on analysing these values further."
   ]
  },
  {
   "cell_type": "code",
   "execution_count": 31,
   "metadata": {
    "_cell_guid": "079d977a-0784-efe4-97a0-66261c69bf6d"
   },
   "outputs": [
    {
     "name": "stdout",
     "output_type": "stream",
     "text": [
      "column name\tquantile 1\tquantile 99\n",
      "life_sq \t 0.0 \t 656.6139999995648\n",
      "floor \t 0.0 \t 41.0\n",
      "max_floor \t 0.0 \t 64.84559999982594\n",
      "material \t 1.0 \t 6.0\n",
      "build_year \t 1884.132 \t 2017.0\n",
      "num_room \t 0.0 \t 19.0\n",
      "kitch_sq \t 0.0 \t 1968.3735999999917\n",
      "state \t 1.0 \t 4.0\n"
     ]
    }
   ],
   "source": [
    "print(\"column name\\tquantile 1\\tquantile 99\")\n",
    "column_quantiles = {}\n",
    "for c in data.columns.values[2:10]:\n",
    "    column_quantiles[c] = (data[c].quantile(.0001), data[c].quantile(.9999))\n",
    "    print(c, \"\\t\", data[c].quantile(.0001), \"\\t\", data[c].quantile(.9999))"
   ]
  },
  {
   "cell_type": "markdown",
   "metadata": {
    "_cell_guid": "d1c8302f-30a3-0f6a-19ab-79e0098843ae"
   },
   "source": [
    "## Brief data exploration\n",
    "It's not my main mission to do an in-depth analysis of the various data points here but one big question is: how can we predict the price of an apartment when the data is collected over several years? Clearly time is a really important factor here - if there is a housing bubble in the middle of the period training a model on the years before the bubble will give poor predictions on what happens after.\n",
    "\n",
    "What I (and probably Sberbank as well) am hoping for is that the macro file will contain data that, if fed to the model, will enable us to make predictions \"independent\" of time. Let's see if there is any ground for that assumption.\n",
    "\n",
    "As we have no prices for the test set, July 2015 an onwards, we'll only look at the train set and hope the findings there can be extrapolated."
   ]
  },
  {
   "cell_type": "code",
   "execution_count": 33,
   "metadata": {
    "_cell_guid": "3c54bef3-bb4e-4c86-e26b-6ae1316918b9"
   },
   "outputs": [
    {
     "name": "stderr",
     "output_type": "stream",
     "text": [
      "C:\\ProgramData\\Anaconda3\\lib\\site-packages\\ipykernel_launcher.py:1: FutureWarning: pd.TimeGrouper is deprecated and will be removed; Please use pd.Grouper(freq=...)\n",
      "  \"\"\"Entry point for launching an IPython kernel.\n"
     ]
    },
    {
     "data": {
      "image/png": "[encoded data removed]",
      "text/plain": [
       "<matplotlib.figure.Figure at 0x23aa730fcf8>"
      ]
     },
     "metadata": {},
     "output_type": "display_data"
    }
   ],
   "source": [
    "time_group = data.set_index('timestamp').groupby(pd.TimeGrouper(freq='M'))\n",
    "plt.figure(figsize=(15,8))\n",
    "(time_group['price_doc'].sum() / time_group['full_sq'].sum()).plot()\n",
    "plt.title('Price per square meter for Moscow apartments', fontsize=16)\n",
    "plt.xlabel('Time')\n",
    "plt.ylabel('Price in RUB (starts at 60,000)')\n",
    "plt.ylim([60000,180000])\n",
    "plt.xlim(['2011-11-01', '2015-06-30'])\n",
    "plt.grid()"
   ]
  },
  {
   "cell_type": "markdown",
   "metadata": {
    "_cell_guid": "1e62e21b-2362-c45f-971b-0afa33f85149"
   },
   "source": [
    "Above is a plot of price per square meter for the apartments in the training set. We start the plot for November 2011 as the sample size before that is quite small (see below). Prices seem to peak in the late spring 2012 and are then followed by a dip to the lowest during autumn of 2012. From there they have kept rising. Let's see how the prices compare to inflation, CPI. To do that we need to import the macro data.\n",
    "\n",
    "### Read the macro data\n",
    "The macro data contains some missing fields. A simple approach seems to be to use the 'ffill' option, i.e. if a value is missing in a row, just copy the value from the row above. This will not work if the first row is missing a value so we will first front-fill and the back-fill to cater for that.\n",
    "\n",
    "I will also do some reformatting of columns that contain a comma (,) as thousand separator."
   ]
  },
  {
   "cell_type": "code",
   "execution_count": 37,
   "metadata": {
    "_cell_guid": "b18b4595-63ad-7842-901d-4509c00340ce"
   },
   "outputs": [],
   "source": [
    "# Read macro data\n",
    "# #! pattern found in some columns, treat as NaN\n",
    "macro = pd.read_csv('data/macro.csv', na_values='#!', parse_dates=[0])\n",
    "\n",
    "# Fill in NaN values\n",
    "macro.fillna(method='ffill', inplace=True)\n",
    "macro.fillna(method='bfill', inplace=True)\n",
    "\n",
    "# Remove thousand separator and convert to double\n",
    "macro_column_names = macro.columns.values.tolist()\n",
    "for i, col_name in enumerate(macro_column_names):\n",
    "    if macro.iloc[:,i].dtype == object:\n",
    "        macro.iloc[:,i] = macro.iloc[:,i].str.replace(',','')\n",
    "        macro.iloc[:,i] = pd.to_numeric(macro.iloc[:,i])"
   ]
  },
  {
   "cell_type": "code",
   "execution_count": 38,
   "metadata": {},
   "outputs": [
    {
     "data": {
      "text/html": [
       "<div>\n",
       "<style scoped>\n",
       "    .dataframe tbody tr th:only-of-type {\n",
       "        vertical-align: middle;\n",
       "    }\n",
       "\n",
       "    .dataframe tbody tr th {\n",
       "        vertical-align: top;\n",
       "    }\n",
       "\n",
       "    .dataframe thead th {\n",
       "        text-align: right;\n",
       "    }\n",
       "</style>\n",
       "<table border=\"1\" class=\"dataframe\">\n",
       "  <thead>\n",
       "    <tr style=\"text-align: right;\">\n",
       "      <th></th>\n",
       "      <th>timestamp</th>\n",
       "      <th>oil_urals</th>\n",
       "      <th>gdp_quart</th>\n",
       "      <th>gdp_quart_growth</th>\n",
       "      <th>cpi</th>\n",
       "      <th>ppi</th>\n",
       "      <th>gdp_deflator</th>\n",
       "      <th>balance_trade</th>\n",
       "      <th>balance_trade_growth</th>\n",
       "      <th>usdrub</th>\n",
       "      <th>...</th>\n",
       "      <th>provision_retail_space_modern_sqm</th>\n",
       "      <th>turnover_catering_per_cap</th>\n",
       "      <th>theaters_viewers_per_1000_cap</th>\n",
       "      <th>seats_theather_rfmin_per_100000_cap</th>\n",
       "      <th>museum_visitis_per_100_cap</th>\n",
       "      <th>bandwidth_sports</th>\n",
       "      <th>population_reg_sports_share</th>\n",
       "      <th>students_reg_sports_share</th>\n",
       "      <th>apartment_build</th>\n",
       "      <th>apartment_fund_sqm</th>\n",
       "    </tr>\n",
       "  </thead>\n",
       "  <tbody>\n",
       "    <tr>\n",
       "      <th>0</th>\n",
       "      <td>2010-01-01</td>\n",
       "      <td>76.1</td>\n",
       "      <td>9995.8</td>\n",
       "      <td>4.1</td>\n",
       "      <td>315.1</td>\n",
       "      <td>337.2</td>\n",
       "      <td>86.721</td>\n",
       "      <td>18.114</td>\n",
       "      <td>14.1</td>\n",
       "      <td>29.905</td>\n",
       "      <td>...</td>\n",
       "      <td>690.0</td>\n",
       "      <td>6221.0</td>\n",
       "      <td>527.0</td>\n",
       "      <td>0.41</td>\n",
       "      <td>993.0</td>\n",
       "      <td>269768.0</td>\n",
       "      <td>22.37</td>\n",
       "      <td>63.03</td>\n",
       "      <td>22825.0</td>\n",
       "      <td>230310.0</td>\n",
       "    </tr>\n",
       "    <tr>\n",
       "      <th>1</th>\n",
       "      <td>2010-01-02</td>\n",
       "      <td>76.1</td>\n",
       "      <td>9995.8</td>\n",
       "      <td>4.1</td>\n",
       "      <td>315.1</td>\n",
       "      <td>337.2</td>\n",
       "      <td>86.721</td>\n",
       "      <td>18.114</td>\n",
       "      <td>14.1</td>\n",
       "      <td>29.905</td>\n",
       "      <td>...</td>\n",
       "      <td>690.0</td>\n",
       "      <td>6221.0</td>\n",
       "      <td>527.0</td>\n",
       "      <td>0.41</td>\n",
       "      <td>993.0</td>\n",
       "      <td>269768.0</td>\n",
       "      <td>22.37</td>\n",
       "      <td>63.03</td>\n",
       "      <td>22825.0</td>\n",
       "      <td>230310.0</td>\n",
       "    </tr>\n",
       "    <tr>\n",
       "      <th>2</th>\n",
       "      <td>2010-01-03</td>\n",
       "      <td>76.1</td>\n",
       "      <td>9995.8</td>\n",
       "      <td>4.1</td>\n",
       "      <td>315.1</td>\n",
       "      <td>337.2</td>\n",
       "      <td>86.721</td>\n",
       "      <td>18.114</td>\n",
       "      <td>14.1</td>\n",
       "      <td>29.905</td>\n",
       "      <td>...</td>\n",
       "      <td>690.0</td>\n",
       "      <td>6221.0</td>\n",
       "      <td>527.0</td>\n",
       "      <td>0.41</td>\n",
       "      <td>993.0</td>\n",
       "      <td>269768.0</td>\n",
       "      <td>22.37</td>\n",
       "      <td>63.03</td>\n",
       "      <td>22825.0</td>\n",
       "      <td>230310.0</td>\n",
       "    </tr>\n",
       "    <tr>\n",
       "      <th>3</th>\n",
       "      <td>2010-01-04</td>\n",
       "      <td>76.1</td>\n",
       "      <td>9995.8</td>\n",
       "      <td>4.1</td>\n",
       "      <td>315.1</td>\n",
       "      <td>337.2</td>\n",
       "      <td>86.721</td>\n",
       "      <td>18.114</td>\n",
       "      <td>14.1</td>\n",
       "      <td>29.905</td>\n",
       "      <td>...</td>\n",
       "      <td>690.0</td>\n",
       "      <td>6221.0</td>\n",
       "      <td>527.0</td>\n",
       "      <td>0.41</td>\n",
       "      <td>993.0</td>\n",
       "      <td>269768.0</td>\n",
       "      <td>22.37</td>\n",
       "      <td>63.03</td>\n",
       "      <td>22825.0</td>\n",
       "      <td>230310.0</td>\n",
       "    </tr>\n",
       "    <tr>\n",
       "      <th>4</th>\n",
       "      <td>2010-01-05</td>\n",
       "      <td>76.1</td>\n",
       "      <td>9995.8</td>\n",
       "      <td>4.1</td>\n",
       "      <td>315.1</td>\n",
       "      <td>337.2</td>\n",
       "      <td>86.721</td>\n",
       "      <td>18.114</td>\n",
       "      <td>14.1</td>\n",
       "      <td>29.836</td>\n",
       "      <td>...</td>\n",
       "      <td>690.0</td>\n",
       "      <td>6221.0</td>\n",
       "      <td>527.0</td>\n",
       "      <td>0.41</td>\n",
       "      <td>993.0</td>\n",
       "      <td>269768.0</td>\n",
       "      <td>22.37</td>\n",
       "      <td>63.03</td>\n",
       "      <td>22825.0</td>\n",
       "      <td>230310.0</td>\n",
       "    </tr>\n",
       "  </tbody>\n",
       "</table>\n",
       "<p>5 rows × 100 columns</p>\n",
       "</div>"
      ],
      "text/plain": [
       "   timestamp  oil_urals  gdp_quart  gdp_quart_growth    cpi    ppi  \\\n",
       "0 2010-01-01       76.1     9995.8               4.1  315.1  337.2   \n",
       "1 2010-01-02       76.1     9995.8               4.1  315.1  337.2   \n",
       "2 2010-01-03       76.1     9995.8               4.1  315.1  337.2   \n",
       "3 2010-01-04       76.1     9995.8               4.1  315.1  337.2   \n",
       "4 2010-01-05       76.1     9995.8               4.1  315.1  337.2   \n",
       "\n",
       "   gdp_deflator  balance_trade  balance_trade_growth  usdrub  \\\n",
       "0        86.721         18.114                  14.1  29.905   \n",
       "1        86.721         18.114                  14.1  29.905   \n",
       "2        86.721         18.114                  14.1  29.905   \n",
       "3        86.721         18.114                  14.1  29.905   \n",
       "4        86.721         18.114                  14.1  29.836   \n",
       "\n",
       "          ...          provision_retail_space_modern_sqm  \\\n",
       "0         ...                                      690.0   \n",
       "1         ...                                      690.0   \n",
       "2         ...                                      690.0   \n",
       "3         ...                                      690.0   \n",
       "4         ...                                      690.0   \n",
       "\n",
       "   turnover_catering_per_cap  theaters_viewers_per_1000_cap  \\\n",
       "0                     6221.0                          527.0   \n",
       "1                     6221.0                          527.0   \n",
       "2                     6221.0                          527.0   \n",
       "3                     6221.0                          527.0   \n",
       "4                     6221.0                          527.0   \n",
       "\n",
       "   seats_theather_rfmin_per_100000_cap  museum_visitis_per_100_cap  \\\n",
       "0                                 0.41                       993.0   \n",
       "1                                 0.41                       993.0   \n",
       "2                                 0.41                       993.0   \n",
       "3                                 0.41                       993.0   \n",
       "4                                 0.41                       993.0   \n",
       "\n",
       "   bandwidth_sports  population_reg_sports_share  students_reg_sports_share  \\\n",
       "0          269768.0                        22.37                      63.03   \n",
       "1          269768.0                        22.37                      63.03   \n",
       "2          269768.0                        22.37                      63.03   \n",
       "3          269768.0                        22.37                      63.03   \n",
       "4          269768.0                        22.37                      63.03   \n",
       "\n",
       "   apartment_build  apartment_fund_sqm  \n",
       "0          22825.0            230310.0  \n",
       "1          22825.0            230310.0  \n",
       "2          22825.0            230310.0  \n",
       "3          22825.0            230310.0  \n",
       "4          22825.0            230310.0  \n",
       "\n",
       "[5 rows x 100 columns]"
      ]
     },
     "execution_count": 38,
     "metadata": {},
     "output_type": "execute_result"
    }
   ],
   "source": [
    "macro.head()"
   ]
  },
  {
   "cell_type": "markdown",
   "metadata": {
    "_cell_guid": "86854bac-c761-99c4-3c1f-a6b7f9e8ec21"
   },
   "source": [
    "### Consumer prices compared to CPI\n",
    "After having loaded the macro data, let's do this comparison."
   ]
  },
  {
   "cell_type": "code",
   "execution_count": 41,
   "metadata": {},
   "outputs": [],
   "source": [
    "?plt.tight_layout"
   ]
  },
  {
   "cell_type": "code",
   "execution_count": 39,
   "metadata": {
    "_cell_guid": "91bfb102-4c8b-8647-ad81-e9b243f1e3be"
   },
   "outputs": [
    {
     "data": {
      "image/png": "[encoded data removed]",
      "text/plain": [
       "<matplotlib.figure.Figure at 0x23aa82f3550>"
      ]
     },
     "metadata": {},
     "output_type": "display_data"
    }
   ],
   "source": [
    "square_meter_time_series = time_group['price_doc'].sum() / time_group['full_sq'].sum()\n",
    "\n",
    "fig, ax1 = plt.subplots(figsize=(15,8))\n",
    "ax1.plot(square_meter_time_series, 'b-')\n",
    "ax1.set_xlabel('Time')\n",
    "ax1.set_ylabel('Price in RUB', color='b')\n",
    "ax1.tick_params('y', colors='b')\n",
    "ax1.set_ylim([60000, 180000])\n",
    "ax1.grid()\n",
    "\n",
    "ax2 = ax1.twinx()\n",
    "ax2.plot(macro.timestamp, macro.cpi, '-', color='r')\n",
    "ax2.set_ylabel('CPI', color='r')\n",
    "ax2.tick_params('y', colors='r')\n",
    "ax2.set_xlim([pd.to_datetime('2011-11-01'), pd.to_datetime('2015-06-30')])\n",
    "# Set the scale to make the lines approximately match at the beginning of the period\n",
    "ax2.set_ylim([110, 600])\n",
    "\n",
    "fig.tight_layout()\n",
    "plt.title('Price per square meter compared to Consumer Price Index (CPI)', fontsize=16)\n",
    "plt.show()"
   ]
  },
  {
   "cell_type": "markdown",
   "metadata": {
    "_cell_guid": "fbea3c8b-acfd-3a4d-188d-ecc32657ec44"
   },
   "source": [
    "We can see that the dip in late 2012 was really a dip in real prices but after that the prices seem to have more or less followed the inflation except for the final 4 months of the period where the flattening out actually means a price dip if we look at the inflation. There are a lot of other variables in the macro data. Plotting some of them against the mean square meter price would be interesting but I will leave that for a later endeavour.\n",
    "\n",
    "What I would like to investigate next is if there is a difference in the price development for low, medium and high priced apartements. _Note that I will now look at the actual price, not price per square meter._"
   ]
  },
  {
   "cell_type": "code",
   "execution_count": 42,
   "metadata": {
    "_cell_guid": "f7205acf-eee5-5a19-476c-0d1447945b55"
   },
   "outputs": [
    {
     "data": {
      "image/png": "[encoded data removed]",
      "text/plain": [
       "<matplotlib.figure.Figure at 0x23aa818f5c0>"
      ]
     },
     "metadata": {},
     "output_type": "display_data"
    }
   ],
   "source": [
    "plt.figure(figsize=(15,8))\n",
    "plt.plot(time_group['price_doc'].quantile(.9), color='b')\n",
    "plt.plot(time_group['price_doc'].quantile(.5), color='r')\n",
    "plt.plot(time_group['price_doc'].quantile(.1), color='g')\n",
    "plt.xlim(['2011-11-01', '2015-06-30'])\n",
    "plt.title('Price for the apartment at the 10, 50 and 90 percentile', fontsize=16)\n",
    "plt.ylabel('Price in RUB')\n",
    "plt.xlabel('Time')\n",
    "plt.grid()"
   ]
  },
  {
   "cell_type": "markdown",
   "metadata": {
    "_cell_guid": "2be26060-3635-b727-43ce-f2a416e7e0d6"
   },
   "source": [
    "The price for the most expensive apartments seem to be a bit more volatile. It is interesting to see that during the dip in late 2012 the price for the cheapest apartements actually went up. Let's look at the sample sizes."
   ]
  },
  {
   "cell_type": "code",
   "execution_count": 43,
   "metadata": {
    "_cell_guid": "5dff208f-76ab-c299-03f2-e9f572d86602"
   },
   "outputs": [
    {
     "data": {
      "image/png": "[encoded data removed]",
      "text/plain": [
       "<matplotlib.figure.Figure at 0x23aa81951d0>"
      ]
     },
     "metadata": {},
     "output_type": "display_data"
    }
   ],
   "source": [
    "plt.figure(figsize=(15,8))\n",
    "time_group.size().plot(kind='bar')\n",
    "plt.title('Number of apartements for each month in dataset', fontsize=16)\n",
    "plt.ylabel('Number of apartements')\n",
    "plt.xlabel('Time')\n",
    "plt.grid()"
   ]
  },
  {
   "cell_type": "markdown",
   "metadata": {
    "_cell_guid": "f238be74-dd4f-e0b2-8daa-9f4119c5ee47"
   },
   "source": [
    "The median price should be quite reliable but the 10- and 90th percentile respectively will be based on quite small samples for certain months; just above 20 apartements for the months where the total sample is about 200. Still, the price increase for the apartement on the 10th percentile (and drop for the 90th percentile) in the autumn 2012 is probably not just by chance. \n",
    "\n",
    "Not really sure what to make of it though. Did a downturn of the economy increase the demand for cheap apartements as people still needed to buy apartements but did not want to invest too much? You could probably draw a lot of conclusions for this by studying the data in more detail, e.g. \"Were the largest apartements just not being sold those months?\", \"Did investement as opposed to owner-occupier purchase decrease?\", et c., et c.\n",
    "\n",
    "## Prediction model\n",
    "So now over to the linear regression model.\n",
    "\n",
    "The key challenge here will be to use the macro data together with the training data to create a good model. The price of an apartement is probably not only correlated to the macro data on the exact date of contract signing. Also, most of the columns in the macro data contain the same number for every day of each month. It makes sense to me to create one row of macro data per month and add that to the apartement data.\n",
    "\n",
    "It could also be a good idea to try to assign different weights to the dates preceding the data of contract signing (and then get information from several preceding months into each apartement training example) but that's beyond what I want to try now."
   ]
  },
  {
   "cell_type": "code",
   "execution_count": 44,
   "metadata": {
    "_cell_guid": "056288ad-8083-daec-9b75-f695a70437ed"
   },
   "outputs": [],
   "source": [
    "# Create one entry per each year and month, \n",
    "# fill with mean value of each column over month\n",
    "macro['YearMonth'] = macro['timestamp'].map(lambda x: 100*x.year + x.month)\n",
    "year_month_group = macro.groupby(by='YearMonth')\n",
    "macro_year_month = year_month_group.mean()\n",
    "\n",
    "# Create a YearMonth attribute for the apartments as well\n",
    "data['YearMonth'] = data['timestamp'].map(lambda x: 100*x.year + x.month)\n",
    "\n",
    "# Now merge the data..\n",
    "full_data = pd.merge(data, macro_year_month, how='left', \\\n",
    "                     left_on='YearMonth', right_index=True)\n",
    "del full_data['timestamp']\n",
    "\n",
    "# ..and split back into train/test set\n",
    "last_train_row = train.shape[0]-1\n",
    "train_proc = full_data.iloc[:last_train_row]\n",
    "test_proc = full_data.iloc[last_train_row:]\n",
    "\n",
    "# Move target price data into separate array\n",
    "train_target_prices = train_proc['price_doc']\n",
    "del train_proc['price_doc']\n",
    "del test_proc['price_doc']"
   ]
  },
  {
   "cell_type": "markdown",
   "metadata": {
    "_cell_guid": "85c29ced-4305-8ce0-dc1f-db6319672701"
   },
   "source": [
    "I will now take 70% of the training set values to use for training the model and 30% for cross-validation to get a sense of how well the model performs."
   ]
  },
  {
   "cell_type": "code",
   "execution_count": 45,
   "metadata": {
    "_cell_guid": "b54eae56-b6eb-a32d-3632-1276ded9c051"
   },
   "outputs": [],
   "source": [
    "# Set a random state for repeatability\n",
    "random_state = 11\n",
    "\n",
    "# Create a train/test split for model evaluation\n",
    "X_train, X_test, y_train, y_test = train_test_split( \\\n",
    "    train_proc, train_target_prices, test_size=0.3, random_state=random_state)\n",
    "\n",
    "# Create function for score metric, set any negatives to 0 to avoid math error\n",
    "def rmsle(y_true, y_pred):\n",
    "    negative_entries = y_pred[np.argwhere(np.isnan(np.log(y_pred+1)))]\n",
    "    if (negative_entries):\n",
    "        print(negative_entries)\n",
    "        y_pred[y_pred < 0] = 0\n",
    "    return np.sqrt(mean_squared_error(np.log(y_true+1), np.log(y_pred+1)))"
   ]
  },
  {
   "cell_type": "markdown",
   "metadata": {
    "_cell_guid": "a9d727ff-08ff-820f-83f2-4ff9aa14d6a3"
   },
   "source": [
    "I will use the above function to evaluate the root mean square logarithmic error of the estimator with my cross-validation set. I tried to feed it (with the make_scorer function) to the model to be used during training but for some reason it didn't work out. This is probably a main drawback as the model will minimize the wrong kind of error but I just don't have any good ideas on how to make it work.\n",
    "\n",
    "As taking the logarithm of a negative value will yield a math error we will say that each negative prediction is 0. A good model would, of course, not predict a negative price of an apartement but as I stated already in the beginning, linear regression will not be the key to winning this competition.."
   ]
  },
  {
   "cell_type": "code",
   "execution_count": 46,
   "metadata": {
    "_cell_guid": "ba2cf262-0c27-82ef-4030-fbda020b4f28"
   },
   "outputs": [
    {
     "name": "stdout",
     "output_type": "stream",
     "text": [
      "[[-232752.04807744]]\n",
      "Root mean square logarithmic error: 0.5527712031020169\n",
      "Best alpha 1.0\n"
     ]
    },
    {
     "name": "stderr",
     "output_type": "stream",
     "text": [
      "C:\\ProgramData\\Anaconda3\\lib\\site-packages\\ipykernel_launcher.py:9: RuntimeWarning: invalid value encountered in log\n",
      "  if __name__ == '__main__':\n"
     ]
    }
   ],
   "source": [
    "# RidgeCV\n",
    "estimator = RidgeCV(alphas=(0.01, 0.1, 1.0, 10.0, 20.0, 100.0), \n",
    "                    fit_intercept=True, normalize=True, \n",
    "                    scoring='neg_mean_squared_error', cv=None, \n",
    "                    gcv_mode=None, store_cv_values=False)\n",
    "estimator.fit(X_train, y_train)\n",
    "print(\"Root mean square logarithmic error:\", rmsle(y_test, estimator.predict(X_test)))\n",
    "print(\"Best alpha\", estimator.alpha_)"
   ]
  },
  {
   "cell_type": "markdown",
   "metadata": {
    "_cell_guid": "d33fe3aa-c442-03ba-04d4-6329dad26a59"
   },
   "source": [
    "So what does a RMSLE of 0.55 mean? Let's compare the actual and predicted prices for a couple of apartements."
   ]
  },
  {
   "cell_type": "code",
   "execution_count": 47,
   "metadata": {
    "_cell_guid": "d3f78641-8f19-b549-a288-0d5c653c0f37"
   },
   "outputs": [
    {
     "name": "stdout",
     "output_type": "stream",
     "text": [
      "\tActual price\t\tPredicted price\n",
      "0            2,132,573 \t           3,763,651\n",
      "1            8,000,000 \t           8,966,983\n",
      "2            5,000,000 \t           5,718,337\n",
      "3            6,850,000 \t           5,821,868\n",
      "4            8,160,317 \t           7,323,876\n",
      "5           12,400,000 \t           8,353,204\n",
      "6            4,033,260 \t           5,193,526\n",
      "7           12,900,000 \t          12,119,157\n",
      "8            2,862,390 \t           3,309,798\n",
      "9            7,604,800 \t           5,931,908\n",
      "10            3,500,000 \t           7,150,975\n",
      "11            5,213,933 \t           5,674,817\n",
      "12            8,000,000 \t           8,203,257\n",
      "13           21,000,000 \t          15,288,830\n",
      "14           12,508,204 \t          10,667,441\n",
      "15            6,750,000 \t           7,894,718\n",
      "16            1,000,000 \t           6,080,573\n",
      "17            6,900,000 \t           8,253,181\n",
      "18            4,267,020 \t           7,039,198\n",
      "19           10,000,000 \t          12,022,014\n"
     ]
    }
   ],
   "source": [
    "print(\"\\tActual price\\t\\tPredicted price\")\n",
    "for e in enumerate(zip(y_test[100:120], estimator.predict(X_test)[100:120])):\n",
    "    print(e[0],\"{:20,}\".format(e[1][0]), \"\\t{:20,.0f}\".format(e[1][1]))"
   ]
  },
  {
   "cell_type": "markdown",
   "metadata": {
    "_cell_guid": "65311d56-2b8d-a2fe-977f-d559c59eb131"
   },
   "source": [
    "It clearly does something and some of the values are sort of right but a few are way off. If I were to sell my apartement and the real estate agent gave me an estimate that turned out to be twice or half the final sale price based on the agency's advanced machine learning model I would be less than impressed..\n",
    "\n",
    "The way RMSLE works, an error of 1 would mean that on average the model misclassifies the price with a factor of ~2.71 (e). An error of 0.55 means an average misclassification of about 70%.\n",
    "\n",
    "Let's see what features had the highest weight."
   ]
  },
  {
   "cell_type": "code",
   "execution_count": 48,
   "metadata": {
    "_cell_guid": "ef07b258-c14e-7f80-a4e9-1625227c451e"
   },
   "outputs": [
    {
     "name": "stdout",
     "output_type": "stream",
     "text": [
      "Strongest positive features\n",
      "('unemployment', 3062820.485750713)\n",
      "('Hamovniki', 3004991.57743097)\n",
      "(\"Zamoskvorech'e\", 2581937.4059668593)\n",
      "('Poselenie Rogovskoe', 2263966.202650747)\n",
      "('Kurkino', 2256287.739503055)\n",
      "('Obruchevskoe', 1923269.381011012)\n",
      "('Lomonosovskoe', 1733410.4348091285)\n",
      "('Poselenie Voronovskoe', 1597590.4082578083)\n",
      "('Prospekt Vernadskogo', 1548093.7976527582)\n",
      "('Krylatskoe', 1514491.6417557439)\n",
      "\n",
      "Strongest negative features\n",
      "('Molzhaninovskoe', -1564102.0766795103)\n",
      "('Vostochnoe Izmajlovo', -907495.7774398236)\n",
      "(\"Mar'ina Roshha\", -861922.1792924149)\n",
      "('Savelovskoe', -852353.5477310698)\n",
      "('Birjulevo Vostochnoe', -797391.4644031108)\n",
      "('indust_part', -698184.6233568683)\n",
      "('Timirjazevskoe', -691203.2351792317)\n",
      "('Lefortovo', -684393.987523658)\n",
      "('Poselenie Filimonkovskoe', -612403.322059981)\n",
      "('Jaroslavskoe', -606557.420313937)\n"
     ]
    }
   ],
   "source": [
    "feature_weights = [x for x in zip(X_test.columns.values, estimator.coef_)]\n",
    "feature_weights.sort(key=lambda x: x[1], reverse=True)\n",
    "print(\"Strongest positive features\")\n",
    "for i in range(10):\n",
    "    print(feature_weights[i])\n",
    "print(\"\\nStrongest negative features\")\n",
    "for i in range(10):\n",
    "    print(feature_weights[-i-1])"
   ]
  },
  {
   "cell_type": "markdown",
   "metadata": {
    "_cell_guid": "bc5fe757-b8bc-916b-1fba-1d605ea6b8ef"
   },
   "source": [
    "I'm not 100% sure how to interpret the fact that 18 of the 20 most important features are areas. On the one hand this might indicate why linear regression won't really work for this type of problem/data. The price of an apartement is heavily influenced by its geographical location. On the other hand, the \"area attributes\" can only take the values 0 or 1 and (although I have normalized all input variables) it might take a pretty strong coefficient to bump up the importance of these values enough to get the correct effect on the target variable (sale price).\n",
    "\n",
    "Maybe a linear regression model would work better if we had a \"distance from city center\" attribute that would take on linear and not binary values.\n",
    "\n",
    "The way a human would estimate the price would certainly be to look at similar apartements in the area so any estimator that could simulate that would probably do better. Maybe that is what you could get a random forest regressor to do (i.e. split on the area attribute high up in the decision trees) but I'll leave that for a future experiment.\n",
    "\n",
    "## Conclusion\n",
    "I want to emphasize that I'm quite new at this and I probably made several mistakes along the way. I would be very happy if someone could point these out - that's the best way to learn. Further, I did not put too much rigour and thought into the different steps and perhaps there are ways to make this work better that I just did not see because I didn't spend enough time thinking about it but that's the benefit of not doing this professionally - I can just do enough to learn and then call it a day and move on once I think I have learned enough. To do a real analysis of all this data would for sure take months if not years.\n",
    "\n",
    "### What to do next\n",
    "I actually tried out a few other linear models (Lasso and ElasticNet) that do not penalize the square of errors but the absolute errors and they resulted in slightly, but not _that_ much, better results. It might also have been an idea to try out other things with the macro data, e.g. using a longer period of macro data instead of just the current month. However, I have a strong feeling that linear regression is not the way to approach this problem so if I continue working on it I will try out some other models.\n",
    "\n",
    "Thank you, if you read all the way here and now at least you know what not to try out for the competition and hopefully you agree with my theory about why!"
   ]
  }
 ],
 "metadata": {
  "_change_revision": 0,
  "_is_fork": false,
  "kernelspec": {
   "display_name": "Python 3",
   "language": "python",
   "name": "python3"
  },
  "language_info": {
   "codemirror_mode": {
    "name": "ipython",
    "version": 3
   },
   "file_extension": ".py",
   "mimetype": "text/x-python",
   "name": "python",
   "nbconvert_exporter": "python",
   "pygments_lexer": "ipython3",
   "version": "3.6.4"
  }
 },
 "nbformat": 4,
 "nbformat_minor": 1
}
