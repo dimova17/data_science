{
 "cells": [
  {
   "cell_type": "markdown",
   "metadata": {},
   "source": [
    "# Gradient decent"
   ]
  },
  {
   "cell_type": "code",
   "execution_count": 11,
   "metadata": {},
   "outputs": [
    {
     "data": {
      "text/html": [
       "20"
      ],
      "text/latex": [
       "20"
      ],
      "text/markdown": [
       "20"
      ],
      "text/plain": [
       "[1] 20"
      ]
     },
     "metadata": {},
     "output_type": "display_data"
    }
   ],
   "source": [
    "X <- c(2,3,5,7,11,13,17,19,23,29,31,37,41,47,51,53,57,61,67,79)\n",
    "length(X)"
   ]
  },
  {
   "cell_type": "code",
   "execution_count": 19,
   "metadata": {},
   "outputs": [],
   "source": [
    "y<- c(1,0,1,0,0)\n",
    "m <-length(y)"
   ]
  },
  {
   "cell_type": "code",
   "execution_count": 14,
   "metadata": {},
   "outputs": [],
   "source": [
    "X<-matrix(X, nrow = 5)"
   ]
  },
  {
   "cell_type": "code",
   "execution_count": 15,
   "metadata": {},
   "outputs": [],
   "source": [
    "theta <- matrix(rep(0, ncol(X)), nrow = ncol(X))"
   ]
  },
  {
   "cell_type": "code",
   "execution_count": 16,
   "metadata": {},
   "outputs": [
    {
     "data": {
      "text/html": [
       "<table>\n",
       "<tbody>\n",
       "\t<tr><td>0</td></tr>\n",
       "\t<tr><td>0</td></tr>\n",
       "\t<tr><td>0</td></tr>\n",
       "\t<tr><td>0</td></tr>\n",
       "</tbody>\n",
       "</table>\n"
      ],
      "text/latex": [
       "\\begin{tabular}{l}\n",
       "\t 0\\\\\n",
       "\t 0\\\\\n",
       "\t 0\\\\\n",
       "\t 0\\\\\n",
       "\\end{tabular}\n"
      ],
      "text/markdown": [
       "\n",
       "| 0 | \n",
       "| 0 | \n",
       "| 0 | \n",
       "| 0 | \n",
       "\n",
       "\n"
      ],
      "text/plain": [
       "     [,1]\n",
       "[1,] 0   \n",
       "[2,] 0   \n",
       "[3,] 0   \n",
       "[4,] 0   "
      ]
     },
     "metadata": {},
     "output_type": "display_data"
    }
   ],
   "source": [
    "theta"
   ]
  },
  {
   "cell_type": "code",
   "execution_count": 20,
   "metadata": {},
   "outputs": [],
   "source": [
    "theta1 <- theta - 0.05 * (1 / m) * (t(X) %*% (X %*% theta - y))"
   ]
  },
  {
   "cell_type": "code",
   "execution_count": 18,
   "metadata": {},
   "outputs": [
    {
     "data": {
      "text/html": [
       "<table>\n",
       "<tbody>\n",
       "\t<tr><td> 2</td><td> 3</td><td> 5</td><td> 7</td><td>11</td></tr>\n",
       "\t<tr><td>13</td><td>17</td><td>19</td><td>23</td><td>29</td></tr>\n",
       "\t<tr><td>31</td><td>37</td><td>41</td><td>47</td><td>51</td></tr>\n",
       "\t<tr><td>53</td><td>57</td><td>61</td><td>67</td><td>79</td></tr>\n",
       "</tbody>\n",
       "</table>\n"
      ],
      "text/latex": [
       "\\begin{tabular}{lllll}\n",
       "\t  2 &  3 &  5 &  7 & 11\\\\\n",
       "\t 13 & 17 & 19 & 23 & 29\\\\\n",
       "\t 31 & 37 & 41 & 47 & 51\\\\\n",
       "\t 53 & 57 & 61 & 67 & 79\\\\\n",
       "\\end{tabular}\n"
      ],
      "text/markdown": [
       "\n",
       "|  2 |  3 |  5 |  7 | 11 | \n",
       "| 13 | 17 | 19 | 23 | 29 | \n",
       "| 31 | 37 | 41 | 47 | 51 | \n",
       "| 53 | 57 | 61 | 67 | 79 | \n",
       "\n",
       "\n"
      ],
      "text/plain": [
       "     [,1] [,2] [,3] [,4] [,5]\n",
       "[1,]  2    3    5    7   11  \n",
       "[2,] 13   17   19   23   29  \n",
       "[3,] 31   37   41   47   51  \n",
       "[4,] 53   57   61   67   79  "
      ]
     },
     "metadata": {},
     "output_type": "display_data"
    }
   ],
   "source": [
    "t(X)"
   ]
  },
  {
   "cell_type": "code",
   "execution_count": 21,
   "metadata": {},
   "outputs": [
    {
     "data": {
      "text/html": [
       "<table>\n",
       "<tbody>\n",
       "\t<tr><td>0.07</td></tr>\n",
       "\t<tr><td>0.32</td></tr>\n",
       "\t<tr><td>0.72</td></tr>\n",
       "\t<tr><td>1.14</td></tr>\n",
       "</tbody>\n",
       "</table>\n"
      ],
      "text/latex": [
       "\\begin{tabular}{l}\n",
       "\t 0.07\\\\\n",
       "\t 0.32\\\\\n",
       "\t 0.72\\\\\n",
       "\t 1.14\\\\\n",
       "\\end{tabular}\n"
      ],
      "text/markdown": [
       "\n",
       "| 0.07 | \n",
       "| 0.32 | \n",
       "| 0.72 | \n",
       "| 1.14 | \n",
       "\n",
       "\n"
      ],
      "text/plain": [
       "     [,1]\n",
       "[1,] 0.07\n",
       "[2,] 0.32\n",
       "[3,] 0.72\n",
       "[4,] 1.14"
      ]
     },
     "metadata": {},
     "output_type": "display_data"
    }
   ],
   "source": [
    "theta1"
   ]
  },
  {
   "cell_type": "code",
   "execution_count": null,
   "metadata": {},
   "outputs": [],
   "source": []
  }
 ],
 "metadata": {
  "kernelspec": {
   "display_name": "R",
   "language": "R",
   "name": "ir"
  },
  "language_info": {
   "codemirror_mode": "r",
   "file_extension": ".r",
   "mimetype": "text/x-r-source",
   "name": "R",
   "pygments_lexer": "r",
   "version": "3.4.3"
  }
 },
 "nbformat": 4,
 "nbformat_minor": 2
}
