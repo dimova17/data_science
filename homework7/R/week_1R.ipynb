{
 "cells": [
  {
   "cell_type": "code",
   "execution_count": 1,
   "metadata": {},
   "outputs": [
    {
     "data": {
      "text/html": [
       "<table>\n",
       "<thead><tr><th scope=col>id</th><th scope=col>age</th><th scope=col>gender</th><th scope=col>height</th><th scope=col>weight</th><th scope=col>ap_hi</th><th scope=col>ap_lo</th><th scope=col>cholesterol</th><th scope=col>gluc</th><th scope=col>smoke</th><th scope=col>alco</th><th scope=col>active</th><th scope=col>cardio</th></tr></thead>\n",
       "<tbody>\n",
       "\t<tr><td>0    </td><td>18393</td><td>2    </td><td>168  </td><td>62   </td><td>110  </td><td> 80  </td><td>1    </td><td>1    </td><td>0    </td><td>0    </td><td>1    </td><td>0    </td></tr>\n",
       "\t<tr><td>1    </td><td>20228</td><td>1    </td><td>156  </td><td>85   </td><td>140  </td><td> 90  </td><td>3    </td><td>1    </td><td>0    </td><td>0    </td><td>1    </td><td>1    </td></tr>\n",
       "\t<tr><td>2    </td><td>18857</td><td>1    </td><td>165  </td><td>64   </td><td>130  </td><td> 70  </td><td>3    </td><td>1    </td><td>0    </td><td>0    </td><td>0    </td><td>1    </td></tr>\n",
       "\t<tr><td>3    </td><td>17623</td><td>2    </td><td>169  </td><td>82   </td><td>150  </td><td>100  </td><td>1    </td><td>1    </td><td>0    </td><td>0    </td><td>1    </td><td>1    </td></tr>\n",
       "\t<tr><td>4    </td><td>17474</td><td>1    </td><td>156  </td><td>56   </td><td>100  </td><td> 60  </td><td>1    </td><td>1    </td><td>0    </td><td>0    </td><td>0    </td><td>0    </td></tr>\n",
       "\t<tr><td>8    </td><td>21914</td><td>1    </td><td>151  </td><td>67   </td><td>120  </td><td> 80  </td><td>2    </td><td>2    </td><td>0    </td><td>0    </td><td>0    </td><td>0    </td></tr>\n",
       "</tbody>\n",
       "</table>\n"
      ],
      "text/latex": [
       "\\begin{tabular}{r|lllllllllllll}\n",
       " id & age & gender & height & weight & ap\\_hi & ap\\_lo & cholesterol & gluc & smoke & alco & active & cardio\\\\\n",
       "\\hline\n",
       "\t 0     & 18393 & 2     & 168   & 62    & 110   &  80   & 1     & 1     & 0     & 0     & 1     & 0    \\\\\n",
       "\t 1     & 20228 & 1     & 156   & 85    & 140   &  90   & 3     & 1     & 0     & 0     & 1     & 1    \\\\\n",
       "\t 2     & 18857 & 1     & 165   & 64    & 130   &  70   & 3     & 1     & 0     & 0     & 0     & 1    \\\\\n",
       "\t 3     & 17623 & 2     & 169   & 82    & 150   & 100   & 1     & 1     & 0     & 0     & 1     & 1    \\\\\n",
       "\t 4     & 17474 & 1     & 156   & 56    & 100   &  60   & 1     & 1     & 0     & 0     & 0     & 0    \\\\\n",
       "\t 8     & 21914 & 1     & 151   & 67    & 120   &  80   & 2     & 2     & 0     & 0     & 0     & 0    \\\\\n",
       "\\end{tabular}\n"
      ],
      "text/markdown": [
       "\n",
       "id | age | gender | height | weight | ap_hi | ap_lo | cholesterol | gluc | smoke | alco | active | cardio | \n",
       "|---|---|---|---|---|---|\n",
       "| 0     | 18393 | 2     | 168   | 62    | 110   |  80   | 1     | 1     | 0     | 0     | 1     | 0     | \n",
       "| 1     | 20228 | 1     | 156   | 85    | 140   |  90   | 3     | 1     | 0     | 0     | 1     | 1     | \n",
       "| 2     | 18857 | 1     | 165   | 64    | 130   |  70   | 3     | 1     | 0     | 0     | 0     | 1     | \n",
       "| 3     | 17623 | 2     | 169   | 82    | 150   | 100   | 1     | 1     | 0     | 0     | 1     | 1     | \n",
       "| 4     | 17474 | 1     | 156   | 56    | 100   |  60   | 1     | 1     | 0     | 0     | 0     | 0     | \n",
       "| 8     | 21914 | 1     | 151   | 67    | 120   |  80   | 2     | 2     | 0     | 0     | 0     | 0     | \n",
       "\n",
       "\n"
      ],
      "text/plain": [
       "  id age   gender height weight ap_hi ap_lo cholesterol gluc smoke alco active\n",
       "1 0  18393 2      168    62     110    80   1           1    0     0    1     \n",
       "2 1  20228 1      156    85     140    90   3           1    0     0    1     \n",
       "3 2  18857 1      165    64     130    70   3           1    0     0    0     \n",
       "4 3  17623 2      169    82     150   100   1           1    0     0    1     \n",
       "5 4  17474 1      156    56     100    60   1           1    0     0    0     \n",
       "6 8  21914 1      151    67     120    80   2           2    0     0    0     \n",
       "  cardio\n",
       "1 0     \n",
       "2 1     \n",
       "3 1     \n",
       "4 1     \n",
       "5 0     \n",
       "6 0     "
      ]
     },
     "metadata": {},
     "output_type": "display_data"
    }
   ],
   "source": [
    "df <- read.csv('mlbootcamp5_train.csv', sep=';')\n",
    "head(df)"
   ]
  },
  {
   "cell_type": "code",
   "execution_count": 2,
   "metadata": {},
   "outputs": [
    {
     "name": "stderr",
     "output_type": "stream",
     "text": [
      "\n",
      "Attaching package: 'dplyr'\n",
      "\n",
      "The following objects are masked from 'package:stats':\n",
      "\n",
      "    filter, lag\n",
      "\n",
      "The following objects are masked from 'package:base':\n",
      "\n",
      "    intersect, setdiff, setequal, union\n",
      "\n"
     ]
    }
   ],
   "source": [
    "library(dplyr)"
   ]
  },
  {
   "cell_type": "code",
   "execution_count": 3,
   "metadata": {},
   "outputs": [
    {
     "data": {
      "text/plain": [
       "       id             age            gender         height     \n",
       " Min.   :    0   Min.   :10798   Min.   :1.00   Min.   : 55.0  \n",
       " 1st Qu.:25007   1st Qu.:17664   1st Qu.:1.00   1st Qu.:159.0  \n",
       " Median :50002   Median :19703   Median :1.00   Median :165.0  \n",
       " Mean   :49972   Mean   :19469   Mean   :1.35   Mean   :164.4  \n",
       " 3rd Qu.:74889   3rd Qu.:21327   3rd Qu.:2.00   3rd Qu.:170.0  \n",
       " Max.   :99999   Max.   :23713   Max.   :2.00   Max.   :250.0  \n",
       "     weight           ap_hi             ap_lo           cholesterol   \n",
       " Min.   : 10.00   Min.   : -150.0   Min.   :  -70.00   Min.   :1.000  \n",
       " 1st Qu.: 65.00   1st Qu.:  120.0   1st Qu.:   80.00   1st Qu.:1.000  \n",
       " Median : 72.00   Median :  120.0   Median :   80.00   Median :1.000  \n",
       " Mean   : 74.21   Mean   :  128.8   Mean   :   96.63   Mean   :1.367  \n",
       " 3rd Qu.: 82.00   3rd Qu.:  140.0   3rd Qu.:   90.00   3rd Qu.:2.000  \n",
       " Max.   :200.00   Max.   :16020.0   Max.   :11000.00   Max.   :3.000  \n",
       "      gluc           smoke              alco             active      \n",
       " Min.   :1.000   Min.   :0.00000   Min.   :0.00000   Min.   :0.0000  \n",
       " 1st Qu.:1.000   1st Qu.:0.00000   1st Qu.:0.00000   1st Qu.:1.0000  \n",
       " Median :1.000   Median :0.00000   Median :0.00000   Median :1.0000  \n",
       " Mean   :1.226   Mean   :0.08813   Mean   :0.05377   Mean   :0.8037  \n",
       " 3rd Qu.:1.000   3rd Qu.:0.00000   3rd Qu.:0.00000   3rd Qu.:1.0000  \n",
       " Max.   :3.000   Max.   :1.00000   Max.   :1.00000   Max.   :1.0000  \n",
       "     cardio      \n",
       " Min.   :0.0000  \n",
       " 1st Qu.:0.0000  \n",
       " Median :0.0000  \n",
       " Mean   :0.4997  \n",
       " 3rd Qu.:1.0000  \n",
       " Max.   :1.0000  "
      ]
     },
     "metadata": {},
     "output_type": "display_data"
    }
   ],
   "source": [
    "summary(df)"
   ]
  },
  {
   "cell_type": "code",
   "execution_count": 5,
   "metadata": {},
   "outputs": [
    {
     "data": {
      "text/plain": [
       "\n",
       "    0     1 \n",
       "35021 34979 "
      ]
     },
     "metadata": {},
     "output_type": "display_data"
    }
   ],
   "source": [
    "table(df$cardio)"
   ]
  },
  {
   "cell_type": "code",
   "execution_count": 5,
   "metadata": {},
   "outputs": [
    {
     "data": {
      "text/html": [
       "<table>\n",
       "<thead><tr><th scope=col>id</th><th scope=col>age</th><th scope=col>gender</th><th scope=col>height</th><th scope=col>weight</th><th scope=col>ap_hi</th><th scope=col>ap_lo</th><th scope=col>cholesterol</th><th scope=col>gluc</th><th scope=col>smoke</th><th scope=col>alco</th><th scope=col>active</th><th scope=col>cardio</th></tr></thead>\n",
       "<tbody>\n",
       "\t<tr><td>67502</td><td>19731</td><td>1    </td><td>160  </td><td> 65  </td><td>14020</td><td>90   </td><td>1    </td><td>1    </td><td>0    </td><td>0    </td><td>1    </td><td>0    </td></tr>\n",
       "\t<tr><td>79679</td><td>23182</td><td>1    </td><td>161  </td><td>105  </td><td>13010</td><td>80   </td><td>1    </td><td>1    </td><td>0    </td><td>0    </td><td>0    </td><td>0    </td></tr>\n",
       "\t<tr><td>61618</td><td>20961</td><td>2    </td><td>170  </td><td> 78  </td><td> 1400</td><td>90   </td><td>2    </td><td>1    </td><td>0    </td><td>0    </td><td>1    </td><td>0    </td></tr>\n",
       "\t<tr><td>81769</td><td>21948</td><td>2    </td><td>166  </td><td> 73  </td><td> 1300</td><td>90   </td><td>1    </td><td>1    </td><td>0    </td><td>1    </td><td>1    </td><td>0    </td></tr>\n",
       "\t<tr><td>77010</td><td>18511</td><td>1    </td><td>164  </td><td> 54  </td><td>  960</td><td>60   </td><td>1    </td><td>1    </td><td>0    </td><td>0    </td><td>1    </td><td>0    </td></tr>\n",
       "\t<tr><td> 6822</td><td>14425</td><td>1    </td><td>168  </td><td> 63  </td><td>  909</td><td>60   </td><td>2    </td><td>1    </td><td>0    </td><td>0    </td><td>1    </td><td>0    </td></tr>\n",
       "</tbody>\n",
       "</table>\n"
      ],
      "text/latex": [
       "\\begin{tabular}{r|lllllllllllll}\n",
       " id & age & gender & height & weight & ap\\_hi & ap\\_lo & cholesterol & gluc & smoke & alco & active & cardio\\\\\n",
       "\\hline\n",
       "\t 67502 & 19731 & 1     & 160   &  65   & 14020 & 90    & 1     & 1     & 0     & 0     & 1     & 0    \\\\\n",
       "\t 79679 & 23182 & 1     & 161   & 105   & 13010 & 80    & 1     & 1     & 0     & 0     & 0     & 0    \\\\\n",
       "\t 61618 & 20961 & 2     & 170   &  78   &  1400 & 90    & 2     & 1     & 0     & 0     & 1     & 0    \\\\\n",
       "\t 81769 & 21948 & 2     & 166   &  73   &  1300 & 90    & 1     & 1     & 0     & 1     & 1     & 0    \\\\\n",
       "\t 77010 & 18511 & 1     & 164   &  54   &   960 & 60    & 1     & 1     & 0     & 0     & 1     & 0    \\\\\n",
       "\t  6822 & 14425 & 1     & 168   &  63   &   909 & 60    & 2     & 1     & 0     & 0     & 1     & 0    \\\\\n",
       "\\end{tabular}\n"
      ],
      "text/markdown": [
       "\n",
       "id | age | gender | height | weight | ap_hi | ap_lo | cholesterol | gluc | smoke | alco | active | cardio | \n",
       "|---|---|---|---|---|---|\n",
       "| 67502 | 19731 | 1     | 160   |  65   | 14020 | 90    | 1     | 1     | 0     | 0     | 1     | 0     | \n",
       "| 79679 | 23182 | 1     | 161   | 105   | 13010 | 80    | 1     | 1     | 0     | 0     | 0     | 0     | \n",
       "| 61618 | 20961 | 2     | 170   |  78   |  1400 | 90    | 2     | 1     | 0     | 0     | 1     | 0     | \n",
       "| 81769 | 21948 | 2     | 166   |  73   |  1300 | 90    | 1     | 1     | 0     | 1     | 1     | 0     | \n",
       "| 77010 | 18511 | 1     | 164   |  54   |   960 | 60    | 1     | 1     | 0     | 0     | 1     | 0     | \n",
       "|  6822 | 14425 | 1     | 168   |  63   |   909 | 60    | 2     | 1     | 0     | 0     | 1     | 0     | \n",
       "\n",
       "\n"
      ],
      "text/plain": [
       "  id    age   gender height weight ap_hi ap_lo cholesterol gluc smoke alco\n",
       "1 67502 19731 1      160     65    14020 90    1           1    0     0   \n",
       "2 79679 23182 1      161    105    13010 80    1           1    0     0   \n",
       "3 61618 20961 2      170     78     1400 90    2           1    0     0   \n",
       "4 81769 21948 2      166     73     1300 90    1           1    0     1   \n",
       "5 77010 18511 1      164     54      960 60    1           1    0     0   \n",
       "6  6822 14425 1      168     63      909 60    2           1    0     0   \n",
       "  active cardio\n",
       "1 1      0     \n",
       "2 0      0     \n",
       "3 1      0     \n",
       "4 1      0     \n",
       "5 1      0     \n",
       "6 1      0     "
      ]
     },
     "metadata": {},
     "output_type": "display_data"
    }
   ],
   "source": [
    "head(arrange(df, cardio, desc(ap_hi)))"
   ]
  },
  {
   "cell_type": "markdown",
   "metadata": {},
   "source": [
    "## Задание 1 "
   ]
  },
  {
   "cell_type": "markdown",
   "metadata": {},
   "source": [
    " Сколько мужчин и женщин представлено в этом наборе данных?"
   ]
  },
  {
   "cell_type": "code",
   "execution_count": 4,
   "metadata": {},
   "outputs": [
    {
     "data": {
      "text/html": [
       "<table>\n",
       "<thead><tr><th scope=col>gender</th><th scope=col>number</th><th scope=col>mean.height</th></tr></thead>\n",
       "<tbody>\n",
       "\t<tr><td>1       </td><td>45530   </td><td>161.3556</td></tr>\n",
       "\t<tr><td>2       </td><td>24470   </td><td>169.9479</td></tr>\n",
       "</tbody>\n",
       "</table>\n"
      ],
      "text/latex": [
       "\\begin{tabular}{r|lll}\n",
       " gender & number & mean.height\\\\\n",
       "\\hline\n",
       "\t 1        & 45530    & 161.3556\\\\\n",
       "\t 2        & 24470    & 169.9479\\\\\n",
       "\\end{tabular}\n"
      ],
      "text/markdown": [
       "\n",
       "gender | number | mean.height | \n",
       "|---|---|\n",
       "| 1        | 45530    | 161.3556 | \n",
       "| 2        | 24470    | 169.9479 | \n",
       "\n",
       "\n"
      ],
      "text/plain": [
       "  gender number mean.height\n",
       "1 1      45530  161.3556   \n",
       "2 2      24470  169.9479   "
      ]
     },
     "metadata": {},
     "output_type": "display_data"
    }
   ],
   "source": [
    "df %>% group_by(gender) %>%\n",
    "  summarise(number = n(),\n",
    "            mean.height = mean(height))\n"
   ]
  },
  {
   "cell_type": "markdown",
   "metadata": {},
   "source": [
    "#### 1 - женщины, их 45530\n",
    "#### 2 - мужчины, их 24470"
   ]
  },
  {
   "cell_type": "code",
   "execution_count": 7,
   "metadata": {},
   "outputs": [
    {
     "data": {
      "text/plain": [
       "\n",
       "    1     2 \n",
       "45530 24470 "
      ]
     },
     "metadata": {},
     "output_type": "display_data"
    }
   ],
   "source": [
    "table(df$gender)"
   ]
  },
  {
   "cell_type": "markdown",
   "metadata": {},
   "source": [
    "## Задание 2"
   ]
  },
  {
   "cell_type": "markdown",
   "metadata": {},
   "source": [
    "Кто в среднем реже указывает, что употребляет алкоголь – мужчины или женщины?"
   ]
  },
  {
   "cell_type": "code",
   "execution_count": 18,
   "metadata": {},
   "outputs": [
    {
     "data": {
      "text/html": [
       "<table>\n",
       "<thead><tr><th scope=col>gender</th><th scope=col>alco</th></tr></thead>\n",
       "<tbody>\n",
       "\t<tr><td>1         </td><td>0.02549967</td></tr>\n",
       "\t<tr><td>2         </td><td>0.10637515</td></tr>\n",
       "</tbody>\n",
       "</table>\n"
      ],
      "text/latex": [
       "\\begin{tabular}{r|ll}\n",
       " gender & alco\\\\\n",
       "\\hline\n",
       "\t 1          & 0.02549967\\\\\n",
       "\t 2          & 0.10637515\\\\\n",
       "\\end{tabular}\n"
      ],
      "text/markdown": [
       "\n",
       "gender | alco | \n",
       "|---|---|\n",
       "| 1          | 0.02549967 | \n",
       "| 2          | 0.10637515 | \n",
       "\n",
       "\n"
      ],
      "text/plain": [
       "  gender alco      \n",
       "1 1      0.02549967\n",
       "2 2      0.10637515"
      ]
     },
     "metadata": {},
     "output_type": "display_data"
    }
   ],
   "source": [
    "df %>% group_by(gender) %>%\n",
    "  select(gender, alco) %>%\n",
    "  summarise_all(funs(mean))"
   ]
  },
  {
   "cell_type": "markdown",
   "metadata": {},
   "source": [
    "**Женщины реже указывают, что употребляют алкоголь**"
   ]
  },
  {
   "cell_type": "markdown",
   "metadata": {},
   "source": [
    "##  Задание 3"
   ]
  },
  {
   "cell_type": "markdown",
   "metadata": {},
   "source": [
    "Во сколько раз округленно процент курящих среди мужчин больше, чем процент курящих среди женщин (по крайней мере, по этим анкетным данным)?"
   ]
  },
  {
   "cell_type": "code",
   "execution_count": 8,
   "metadata": {},
   "outputs": [
    {
     "data": {
      "text/html": [
       "12"
      ],
      "text/latex": [
       "12"
      ],
      "text/markdown": [
       "12"
      ],
      "text/plain": [
       "[1] 12"
      ]
     },
     "metadata": {},
     "output_type": "display_data"
    }
   ],
   "source": [
    "mean(filter(df, df['gender'] == 1)[, 'smoke'] ) -> smoke_wm\n",
    "mean(filter(df, df['gender'] == 2)[, 'smoke'] ) -> smoke_m\n",
    "round(smoke_m / smoke_wm)"
   ]
  },
  {
   "cell_type": "markdown",
   "metadata": {},
   "source": [
    "**Примерно в 12 раз больше**"
   ]
  },
  {
   "cell_type": "code",
   "execution_count": 9,
   "metadata": {},
   "outputs": [
    {
     "data": {
      "text/html": [
       "<table>\n",
       "<thead><tr><th scope=col>gender</th><th scope=col>smoke</th></tr></thead>\n",
       "<tbody>\n",
       "\t<tr><td>1         </td><td>0.01785636</td></tr>\n",
       "\t<tr><td>2         </td><td>0.21888026</td></tr>\n",
       "</tbody>\n",
       "</table>\n"
      ],
      "text/latex": [
       "\\begin{tabular}{r|ll}\n",
       " gender & smoke\\\\\n",
       "\\hline\n",
       "\t 1          & 0.01785636\\\\\n",
       "\t 2          & 0.21888026\\\\\n",
       "\\end{tabular}\n"
      ],
      "text/markdown": [
       "\n",
       "gender | smoke | \n",
       "|---|---|\n",
       "| 1          | 0.01785636 | \n",
       "| 2          | 0.21888026 | \n",
       "\n",
       "\n"
      ],
      "text/plain": [
       "  gender smoke     \n",
       "1 1      0.01785636\n",
       "2 2      0.21888026"
      ]
     },
     "metadata": {},
     "output_type": "display_data"
    }
   ],
   "source": [
    "df %>% group_by(gender) %>%\n",
    "  select(gender, smoke) %>%\n",
    "  summarise_all(funs(mean))"
   ]
  },
  {
   "cell_type": "markdown",
   "metadata": {},
   "source": [
    "## Задание 4"
   ]
  },
  {
   "cell_type": "markdown",
   "metadata": {},
   "source": [
    "В чём здесь измеряется возраст? \n",
    "На сколько месяцев (примерно) отличаются медианные значения возраста курящих и некурящих?"
   ]
  },
  {
   "cell_type": "code",
   "execution_count": 37,
   "metadata": {
    "scrolled": true
   },
   "outputs": [
    {
     "data": {
      "text/html": [
       "<table>\n",
       "<thead><tr><th scope=col>age</th></tr></thead>\n",
       "<tbody>\n",
       "\t<tr><td>18393</td></tr>\n",
       "\t<tr><td>20228</td></tr>\n",
       "\t<tr><td>18857</td></tr>\n",
       "\t<tr><td>17623</td></tr>\n",
       "\t<tr><td>17474</td></tr>\n",
       "\t<tr><td>21914</td></tr>\n",
       "</tbody>\n",
       "</table>\n"
      ],
      "text/latex": [
       "\\begin{tabular}{r|l}\n",
       " age\\\\\n",
       "\\hline\n",
       "\t 18393\\\\\n",
       "\t 20228\\\\\n",
       "\t 18857\\\\\n",
       "\t 17623\\\\\n",
       "\t 17474\\\\\n",
       "\t 21914\\\\\n",
       "\\end{tabular}\n"
      ],
      "text/markdown": [
       "\n",
       "age | \n",
       "|---|---|---|---|---|---|\n",
       "| 18393 | \n",
       "| 20228 | \n",
       "| 18857 | \n",
       "| 17623 | \n",
       "| 17474 | \n",
       "| 21914 | \n",
       "\n",
       "\n"
      ],
      "text/plain": [
       "  age  \n",
       "1 18393\n",
       "2 20228\n",
       "3 18857\n",
       "4 17623\n",
       "5 17474\n",
       "6 21914"
      ]
     },
     "metadata": {},
     "output_type": "display_data"
    }
   ],
   "source": [
    "head(select(df, age))"
   ]
  },
  {
   "cell_type": "markdown",
   "metadata": {},
   "source": [
    "Нетрудно догадаться, что возраст указан в днях"
   ]
  },
  {
   "cell_type": "code",
   "execution_count": 6,
   "metadata": {},
   "outputs": [
    {
     "data": {
      "text/html": [
       "<table>\n",
       "<thead><tr><th scope=col>smoke</th><th scope=col>age</th></tr></thead>\n",
       "<tbody>\n",
       "\t<tr><td>0    </td><td>19722</td></tr>\n",
       "\t<tr><td>1    </td><td>19125</td></tr>\n",
       "</tbody>\n",
       "</table>\n"
      ],
      "text/latex": [
       "\\begin{tabular}{r|ll}\n",
       " smoke & age\\\\\n",
       "\\hline\n",
       "\t 0     & 19722\\\\\n",
       "\t 1     & 19125\\\\\n",
       "\\end{tabular}\n"
      ],
      "text/markdown": [
       "\n",
       "smoke | age | \n",
       "|---|---|\n",
       "| 0     | 19722 | \n",
       "| 1     | 19125 | \n",
       "\n",
       "\n"
      ],
      "text/plain": [
       "  smoke age  \n",
       "1 0     19722\n",
       "2 1     19125"
      ]
     },
     "metadata": {},
     "output_type": "display_data"
    }
   ],
   "source": [
    "df %>% group_by(smoke) %>%\n",
    "  select(smoke, age) %>%\n",
    "  summarise_all(funs(median))"
   ]
  },
  {
   "cell_type": "code",
   "execution_count": 6,
   "metadata": {},
   "outputs": [
    {
     "data": {
      "text/html": [
       "20"
      ],
      "text/latex": [
       "20"
      ],
      "text/markdown": [
       "20"
      ],
      "text/plain": [
       "[1] 20"
      ]
     },
     "metadata": {},
     "output_type": "display_data"
    }
   ],
   "source": [
    "median(filter(df,df['smoke'] == 1)[, 'age']) / 30 -> smoke\n",
    "median(filter(df,df['smoke'] == 0)[, 'age']) / 30 -> non_smoke\n",
    "round(non_smoke - smoke)"
   ]
  },
  {
   "cell_type": "markdown",
   "metadata": {},
   "source": [
    "На 20 месяцев отличаются медианные значения возраста курящих и некурящих"
   ]
  },
  {
   "cell_type": "markdown",
   "metadata": {},
   "source": [
    "## Задание 5"
   ]
  },
  {
   "cell_type": "markdown",
   "metadata": {},
   "source": [
    "Во сколько раз округленно отличаются доли больных людей (согласно целевому признаку, cardio) в двух подвыборках?"
   ]
  },
  {
   "cell_type": "markdown",
   "metadata": {},
   "source": [
    "Первая: курящие мужчины от 60 до 64 лет включительно с верхним артериальным давлением строго меньше 120 мм рт.ст. и концентрацией холестерина – 4 ммоль/л"
   ]
  },
  {
   "cell_type": "markdown",
   "metadata": {},
   "source": [
    "Вторая: мужчины того же возраста с верхним артериальным давлением от 160 (включительно) до 180 мм рт.ст. (не включительно) и концентрацией холестерина – 8 ммоль/л"
   ]
  },
  {
   "cell_type": "code",
   "execution_count": 7,
   "metadata": {},
   "outputs": [],
   "source": [
    "mutate(df, age_years=round(age/365.25)) ->df1 #добавляем возраст в годах"
   ]
  },
  {
   "cell_type": "code",
   "execution_count": 8,
   "metadata": {},
   "outputs": [
    {
     "data": {
      "text/html": [
       "<table>\n",
       "<thead><tr><th scope=col>id</th><th scope=col>age</th><th scope=col>gender</th><th scope=col>height</th><th scope=col>weight</th><th scope=col>ap_hi</th><th scope=col>ap_lo</th><th scope=col>cholesterol</th><th scope=col>gluc</th><th scope=col>smoke</th><th scope=col>alco</th><th scope=col>active</th><th scope=col>cardio</th><th scope=col>age_years</th></tr></thead>\n",
       "<tbody>\n",
       "\t<tr><td> 29  </td><td>21755</td><td>2    </td><td>162  </td><td>56   </td><td>120  </td><td> 70  </td><td>1    </td><td>1    </td><td>1    </td><td>0    </td><td>1    </td><td>0    </td><td>60   </td></tr>\n",
       "\t<tr><td> 52  </td><td>23388</td><td>2    </td><td>162  </td><td>72   </td><td>130  </td><td> 80  </td><td>1    </td><td>1    </td><td>1    </td><td>0    </td><td>1    </td><td>1    </td><td>64   </td></tr>\n",
       "\t<tr><td> 90  </td><td>22099</td><td>2    </td><td>171  </td><td>97   </td><td>150  </td><td>100  </td><td>3    </td><td>1    </td><td>1    </td><td>0    </td><td>1    </td><td>1    </td><td>61   </td></tr>\n",
       "\t<tr><td>240  </td><td>21848</td><td>2    </td><td>170  </td><td>69   </td><td>120  </td><td> 80  </td><td>1    </td><td>1    </td><td>1    </td><td>1    </td><td>1    </td><td>0    </td><td>60   </td></tr>\n",
       "\t<tr><td>248  </td><td>22671</td><td>2    </td><td>174  </td><td>74   </td><td>130  </td><td> 80  </td><td>3    </td><td>1    </td><td>1    </td><td>0    </td><td>1    </td><td>1    </td><td>62   </td></tr>\n",
       "\t<tr><td>318  </td><td>23376</td><td>2    </td><td>175  </td><td>75   </td><td>180  </td><td>100  </td><td>3    </td><td>1    </td><td>1    </td><td>1    </td><td>1    </td><td>1    </td><td>64   </td></tr>\n",
       "</tbody>\n",
       "</table>\n"
      ],
      "text/latex": [
       "\\begin{tabular}{r|llllllllllllll}\n",
       " id & age & gender & height & weight & ap\\_hi & ap\\_lo & cholesterol & gluc & smoke & alco & active & cardio & age\\_years\\\\\n",
       "\\hline\n",
       "\t  29   & 21755 & 2     & 162   & 56    & 120   &  70   & 1     & 1     & 1     & 0     & 1     & 0     & 60   \\\\\n",
       "\t  52   & 23388 & 2     & 162   & 72    & 130   &  80   & 1     & 1     & 1     & 0     & 1     & 1     & 64   \\\\\n",
       "\t  90   & 22099 & 2     & 171   & 97    & 150   & 100   & 3     & 1     & 1     & 0     & 1     & 1     & 61   \\\\\n",
       "\t 240   & 21848 & 2     & 170   & 69    & 120   &  80   & 1     & 1     & 1     & 1     & 1     & 0     & 60   \\\\\n",
       "\t 248   & 22671 & 2     & 174   & 74    & 130   &  80   & 3     & 1     & 1     & 0     & 1     & 1     & 62   \\\\\n",
       "\t 318   & 23376 & 2     & 175   & 75    & 180   & 100   & 3     & 1     & 1     & 1     & 1     & 1     & 64   \\\\\n",
       "\\end{tabular}\n"
      ],
      "text/markdown": [
       "\n",
       "id | age | gender | height | weight | ap_hi | ap_lo | cholesterol | gluc | smoke | alco | active | cardio | age_years | \n",
       "|---|---|---|---|---|---|\n",
       "|  29   | 21755 | 2     | 162   | 56    | 120   |  70   | 1     | 1     | 1     | 0     | 1     | 0     | 60    | \n",
       "|  52   | 23388 | 2     | 162   | 72    | 130   |  80   | 1     | 1     | 1     | 0     | 1     | 1     | 64    | \n",
       "|  90   | 22099 | 2     | 171   | 97    | 150   | 100   | 3     | 1     | 1     | 0     | 1     | 1     | 61    | \n",
       "| 240   | 21848 | 2     | 170   | 69    | 120   |  80   | 1     | 1     | 1     | 1     | 1     | 0     | 60    | \n",
       "| 248   | 22671 | 2     | 174   | 74    | 130   |  80   | 3     | 1     | 1     | 0     | 1     | 1     | 62    | \n",
       "| 318   | 23376 | 2     | 175   | 75    | 180   | 100   | 3     | 1     | 1     | 1     | 1     | 1     | 64    | \n",
       "\n",
       "\n"
      ],
      "text/plain": [
       "  id  age   gender height weight ap_hi ap_lo cholesterol gluc smoke alco active\n",
       "1  29 21755 2      162    56     120    70   1           1    1     0    1     \n",
       "2  52 23388 2      162    72     130    80   1           1    1     0    1     \n",
       "3  90 22099 2      171    97     150   100   3           1    1     0    1     \n",
       "4 240 21848 2      170    69     120    80   1           1    1     1    1     \n",
       "5 248 22671 2      174    74     130    80   3           1    1     0    1     \n",
       "6 318 23376 2      175    75     180   100   3           1    1     1    1     \n",
       "  cardio age_years\n",
       "1 0      60       \n",
       "2 1      64       \n",
       "3 1      61       \n",
       "4 0      60       \n",
       "5 1      62       \n",
       "6 1      64       "
      ]
     },
     "metadata": {},
     "output_type": "display_data"
    }
   ],
   "source": [
    "smoking_old_men <- filter(df1, df1['gender'] == 2 & df1['age_years'] >= 60\n",
    "                    & df1['age_years'] < 65 & df1['smoke'] == 1)\n",
    "head(smoking_old_men)"
   ]
  },
  {
   "cell_type": "code",
   "execution_count": 9,
   "metadata": {},
   "outputs": [],
   "source": [
    "a <-mean(filter(smoking_old_men, smoking_old_men['cholesterol'] == 1 &\n",
    "               smoking_old_men['ap_hi'] < 120)[, 'cardio'])"
   ]
  },
  {
   "cell_type": "code",
   "execution_count": 10,
   "metadata": {},
   "outputs": [],
   "source": [
    "b <- mean(filter(smoking_old_men, smoking_old_men['cholesterol'] == 3 &\n",
    "               smoking_old_men['ap_hi'] < 180 & smoking_old_men['ap_hi'] >= 160)[, 'cardio'])"
   ]
  },
  {
   "cell_type": "code",
   "execution_count": 11,
   "metadata": {},
   "outputs": [
    {
     "data": {
      "text/html": [
       "3.28"
      ],
      "text/latex": [
       "3.28"
      ],
      "text/markdown": [
       "3.28"
      ],
      "text/plain": [
       "[1] 3.28"
      ]
     },
     "metadata": {},
     "output_type": "display_data"
    }
   ],
   "source": [
    "round(b/a,2) "
   ]
  },
  {
   "cell_type": "markdown",
   "metadata": {},
   "source": [
    "**Ответ: примерно в 3 раза**"
   ]
  },
  {
   "cell_type": "markdown",
   "metadata": {},
   "source": [
    "## Задание 6"
   ]
  },
  {
   "cell_type": "markdown",
   "metadata": {},
   "source": [
    "Выберите верные утверждения:\n",
    "- Медианный BMI по выборке превышает норму\n",
    "- У женщин в среднем BMI ниже, чем у мужчин\n",
    "- У здоровых в среднем BMI выше, чем у больных\n",
    "- В сегменте здоровых и непьющих мужчин в среднем BMI ближе к норме, чем в сегменте здоровых и непьющих женщин"
   ]
  },
  {
   "cell_type": "code",
   "execution_count": 13,
   "metadata": {},
   "outputs": [],
   "source": [
    "mutate(df1, BMI= weight / (height / 100) ** 2) ->df1 #Новый признак Body Mass Index"
   ]
  },
  {
   "cell_type": "markdown",
   "metadata": {},
   "source": [
    "Нормальными считаются значения BMI от 18.5 до 25"
   ]
  },
  {
   "cell_type": "code",
   "execution_count": 14,
   "metadata": {},
   "outputs": [
    {
     "data": {
      "text/html": [
       "26.374068120775"
      ],
      "text/latex": [
       "26.374068120775"
      ],
      "text/markdown": [
       "26.374068120775"
      ],
      "text/plain": [
       "[1] 26.37407"
      ]
     },
     "metadata": {},
     "output_type": "display_data"
    }
   ],
   "source": [
    "median(df1[['BMI']]) "
   ]
  },
  {
   "cell_type": "markdown",
   "metadata": {},
   "source": [
    "Медианный BMI по выборке превышает норму - первое утверждение верно"
   ]
  },
  {
   "cell_type": "code",
   "execution_count": 15,
   "metadata": {},
   "outputs": [
    {
     "data": {
      "text/html": [
       "<table>\n",
       "<thead><tr><th scope=col>gender</th><th scope=col>BMI</th></tr></thead>\n",
       "<tbody>\n",
       "\t<tr><td>1       </td><td>27.98758</td></tr>\n",
       "\t<tr><td>2       </td><td>26.75444</td></tr>\n",
       "</tbody>\n",
       "</table>\n"
      ],
      "text/latex": [
       "\\begin{tabular}{r|ll}\n",
       " gender & BMI\\\\\n",
       "\\hline\n",
       "\t 1        & 27.98758\\\\\n",
       "\t 2        & 26.75444\\\\\n",
       "\\end{tabular}\n"
      ],
      "text/markdown": [
       "\n",
       "gender | BMI | \n",
       "|---|---|\n",
       "| 1        | 27.98758 | \n",
       "| 2        | 26.75444 | \n",
       "\n",
       "\n"
      ],
      "text/plain": [
       "  gender BMI     \n",
       "1 1      27.98758\n",
       "2 2      26.75444"
      ]
     },
     "metadata": {},
     "output_type": "display_data"
    }
   ],
   "source": [
    "df1 %>% group_by(gender) %>%\n",
    "  select(gender, BMI) %>%\n",
    "  summarise_all(funs(mean)) "
   ]
  },
  {
   "cell_type": "markdown",
   "metadata": {},
   "source": [
    "Второе утверждение неверно, у женщин в среднем BMI выше, чем у мужчин"
   ]
  },
  {
   "cell_type": "code",
   "execution_count": 16,
   "metadata": {},
   "outputs": [
    {
     "data": {
      "text/html": [
       "<table>\n",
       "<thead><tr><th scope=col>cardio</th><th scope=col>BMI</th></tr></thead>\n",
       "<tbody>\n",
       "\t<tr><td>0       </td><td>26.54818</td></tr>\n",
       "\t<tr><td>1       </td><td>28.56606</td></tr>\n",
       "</tbody>\n",
       "</table>\n"
      ],
      "text/latex": [
       "\\begin{tabular}{r|ll}\n",
       " cardio & BMI\\\\\n",
       "\\hline\n",
       "\t 0        & 26.54818\\\\\n",
       "\t 1        & 28.56606\\\\\n",
       "\\end{tabular}\n"
      ],
      "text/markdown": [
       "\n",
       "cardio | BMI | \n",
       "|---|---|\n",
       "| 0        | 26.54818 | \n",
       "| 1        | 28.56606 | \n",
       "\n",
       "\n"
      ],
      "text/plain": [
       "  cardio BMI     \n",
       "1 0      26.54818\n",
       "2 1      28.56606"
      ]
     },
     "metadata": {},
     "output_type": "display_data"
    }
   ],
   "source": [
    "df1 %>% group_by(cardio) %>%\n",
    "  select(cardio, BMI) %>%\n",
    "  summarise_all(funs(mean)) "
   ]
  },
  {
   "cell_type": "markdown",
   "metadata": {},
   "source": [
    "Третье утверждение неверно"
   ]
  },
  {
   "cell_type": "code",
   "execution_count": 17,
   "metadata": {},
   "outputs": [
    {
     "data": {
      "text/html": [
       "26.8454065941315"
      ],
      "text/latex": [
       "26.8454065941315"
      ],
      "text/markdown": [
       "26.8454065941315"
      ],
      "text/plain": [
       "[1] 26.84541"
      ]
     },
     "metadata": {},
     "output_type": "display_data"
    },
    {
     "data": {
      "text/html": [
       "25.8726380754602"
      ],
      "text/latex": [
       "25.8726380754602"
      ],
      "text/markdown": [
       "25.8726380754602"
      ],
      "text/plain": [
       "[1] 25.87264"
      ]
     },
     "metadata": {},
     "output_type": "display_data"
    }
   ],
   "source": [
    "women <- filter(df1, df1['gender'] == 1 & df1['cardio'] == 0 & df1['alco'] == 0)\n",
    "men <- filter(df1, df1['gender'] == 2 & df1['cardio'] == 0 & df1['alco'] == 0)\n",
    "mean(women[['BMI']])\n",
    "mean(men[['BMI']])"
   ]
  },
  {
   "cell_type": "code",
   "execution_count": 18,
   "metadata": {},
   "outputs": [
    {
     "data": {
      "text/html": [
       "<table>\n",
       "<thead><tr><th scope=col>gender</th><th scope=col>alco</th><th scope=col>cardio</th><th scope=col>BMI</th></tr></thead>\n",
       "<tbody>\n",
       "\t<tr><td>1       </td><td>0       </td><td>0       </td><td>26.84541</td></tr>\n",
       "\t<tr><td>1       </td><td>0       </td><td>1       </td><td>29.05277</td></tr>\n",
       "\t<tr><td>1       </td><td>1       </td><td>0       </td><td>28.67146</td></tr>\n",
       "\t<tr><td>1       </td><td>1       </td><td>1       </td><td>30.81235</td></tr>\n",
       "\t<tr><td>2       </td><td>0       </td><td>0       </td><td>25.87264</td></tr>\n",
       "\t<tr><td>2       </td><td>0       </td><td>1       </td><td>27.52245</td></tr>\n",
       "\t<tr><td>2       </td><td>1       </td><td>0       </td><td>26.09722</td></tr>\n",
       "\t<tr><td>2       </td><td>1       </td><td>1       </td><td>28.22657</td></tr>\n",
       "</tbody>\n",
       "</table>\n"
      ],
      "text/latex": [
       "\\begin{tabular}{r|llll}\n",
       " gender & alco & cardio & BMI\\\\\n",
       "\\hline\n",
       "\t 1        & 0        & 0        & 26.84541\\\\\n",
       "\t 1        & 0        & 1        & 29.05277\\\\\n",
       "\t 1        & 1        & 0        & 28.67146\\\\\n",
       "\t 1        & 1        & 1        & 30.81235\\\\\n",
       "\t 2        & 0        & 0        & 25.87264\\\\\n",
       "\t 2        & 0        & 1        & 27.52245\\\\\n",
       "\t 2        & 1        & 0        & 26.09722\\\\\n",
       "\t 2        & 1        & 1        & 28.22657\\\\\n",
       "\\end{tabular}\n"
      ],
      "text/markdown": [
       "\n",
       "gender | alco | cardio | BMI | \n",
       "|---|---|---|---|---|---|---|---|\n",
       "| 1        | 0        | 0        | 26.84541 | \n",
       "| 1        | 0        | 1        | 29.05277 | \n",
       "| 1        | 1        | 0        | 28.67146 | \n",
       "| 1        | 1        | 1        | 30.81235 | \n",
       "| 2        | 0        | 0        | 25.87264 | \n",
       "| 2        | 0        | 1        | 27.52245 | \n",
       "| 2        | 1        | 0        | 26.09722 | \n",
       "| 2        | 1        | 1        | 28.22657 | \n",
       "\n",
       "\n"
      ],
      "text/plain": [
       "  gender alco cardio BMI     \n",
       "1 1      0    0      26.84541\n",
       "2 1      0    1      29.05277\n",
       "3 1      1    0      28.67146\n",
       "4 1      1    1      30.81235\n",
       "5 2      0    0      25.87264\n",
       "6 2      0    1      27.52245\n",
       "7 2      1    0      26.09722\n",
       "8 2      1    1      28.22657"
      ]
     },
     "metadata": {},
     "output_type": "display_data"
    }
   ],
   "source": [
    "df1 %>% group_by(gender, alco, cardio) %>%\n",
    "  select(gender, alco, cardio, BMI) %>%\n",
    "  summarise_all(funs(mean)) "
   ]
  },
  {
   "cell_type": "markdown",
   "metadata": {},
   "source": [
    "Утверждение 4 верно"
   ]
  },
  {
   "cell_type": "markdown",
   "metadata": {},
   "source": [
    "## Задание 7 "
   ]
  },
  {
   "cell_type": "markdown",
   "metadata": {},
   "source": [
    "Отфильтровать следующие сегменты пациентов (считаем это ошибками в данных):\n",
    "\n",
    "- указанное нижнее значение артериального давления строго выше верхнего\n",
    "- рост строго меньше 2.5%-перцентили или строго больше 97.5%-перцентили \n",
    "- вес строго меньше 2.5%-перцентили или строго больше 97.5%-перцентили"
   ]
  },
  {
   "cell_type": "code",
   "execution_count": 19,
   "metadata": {},
   "outputs": [],
   "source": [
    "filtered_df <- filter(df1, df1['ap_lo'] <= df1['ap_hi'] & \n",
    "                 df1['height'] >= quantile(df1$height, 0.025)[[1]] &\n",
    "                 df1['height'] <= quantile(df1$height, 0.975)[[1]] &\n",
    "                 df1['weight'] >= quantile(df1$weight, 0.025)[[1]] & \n",
    "                 df1['weight'] <= quantile(df1$weight, 0.975)[[1]])\n"
   ]
  },
  {
   "cell_type": "markdown",
   "metadata": {},
   "source": [
    "Сколько процентов данных округленно мы выбросили?"
   ]
  },
  {
   "cell_type": "code",
   "execution_count": 20,
   "metadata": {},
   "outputs": [
    {
     "data": {
      "text/html": [
       "10"
      ],
      "text/latex": [
       "10"
      ],
      "text/markdown": [
       "10"
      ],
      "text/plain": [
       "[1] 10"
      ]
     },
     "metadata": {},
     "output_type": "display_data"
    }
   ],
   "source": [
    "(1 - round(nrow(filtered_df) / nrow(df1), 2)) * 100"
   ]
  },
  {
   "cell_type": "markdown",
   "metadata": {},
   "source": [
    "Ответ: выбросили около 10% данных"
   ]
  }
 ],
 "metadata": {
  "kernelspec": {
   "display_name": "R",
   "language": "R",
   "name": "ir"
  },
  "language_info": {
   "codemirror_mode": "r",
   "file_extension": ".r",
   "mimetype": "text/x-r-source",
   "name": "R",
   "pygments_lexer": "r",
   "version": "3.4.3"
  }
 },
 "nbformat": 4,
 "nbformat_minor": 2
}
